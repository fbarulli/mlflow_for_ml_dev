{
 "cells": [
  {
   "cell_type": "markdown",
   "metadata": {},
   "source": [
    "# Creating custom Pyfunc models\n",
    "\n",
    "MLflow’s persistence modules provide convenience functions for creating models with the pyfunc flavor in a variety of machine learning frameworks (scikit-learn, Keras, Pytorch, and more); however, they do not cover every use case. For example, you may want to create an MLflow model with the pyfunc flavor using a framework that MLflow does not natively support. Alternatively, you may want to build an MLflow model that executes custom logic when evaluating queries, such as preprocessing and postprocessing routines. Therefore, mlflow.pyfunc provides utilities for creating pyfunc models from arbitrary code and model data.\n",
    "\n",
    "## Function-based Model & Class-based Model\n",
    "\n",
    "### Function-based Model\n",
    "\n",
    "If you’re looking to serialize a simple python function without additional dependent methods, you can simply log a predict method via the keyword argument python_model.\n",
    "\n",
    "\n"
   ]
  },
  {
   "cell_type": "code",
   "execution_count": 2,
   "metadata": {},
   "outputs": [],
   "source": [
    "from mlflow_for_ml_dev.experiments.exp_utils import get_or_create_experiment\n",
    "import mlflow \n",
    "import pandas as pd"
   ]
  },
  {
   "cell_type": "code",
   "execution_count": 3,
   "metadata": {},
   "outputs": [
    {
     "name": "stdout",
     "output_type": "stream",
     "text": [
      "Experiment with name custom_models and ID 747157440134674892 created.\n"
     ]
    }
   ],
   "source": [
    "# create experiment\n",
    "experiment_name = \"custom_models\"\n",
    "experiment = get_or_create_experiment(\n",
    "    experiment_name = experiment_name,\n",
    "    tags = {\n",
    "        \"proejct_name\": \"UNDEFINED\",\n",
    "        \"topic\":\"pyfunc_flavor\",\n",
    "        \"mlflow.note.content\": \"This experiment is used to store custom models that are not supported by mlflow out of the box. The models are saved using the pyfunc flavor.\"\n",
    "    }\n",
    ")"
   ]
  },
  {
   "cell_type": "code",
   "execution_count": 4,
   "metadata": {},
   "outputs": [
    {
     "name": "stderr",
     "output_type": "stream",
     "text": [
      "2024/12/03 07:46:13 WARNING mlflow.models.model: Model logged without a signature and input example. Please set `input_example` parameter when logging the model to auto infer the model signature.\n"
     ]
    },
    {
     "name": "stdout",
     "output_type": "stream",
     "text": [
      "0     2\n",
      "1     4\n",
      "2     6\n",
      "3     8\n",
      "4    10\n",
      "dtype: int64\n"
     ]
    }
   ],
   "source": [
    "# Define a simple function to log\n",
    "def predict(model_input):\n",
    "    \"\"\"\n",
    "    Predicts the input multiplied by 2\n",
    "\n",
    "    :param model_input: The input to the model\n",
    "    :return: The input multiplied by 2\n",
    "    \"\"\"\n",
    "    return model_input.apply(lambda x: x * 2)\n",
    "\n",
    "\n",
    "# Save the function as a model\n",
    "with mlflow.start_run(run_name=\"function_model\"):\n",
    "    mlflow.pyfunc.log_model(\"model\", python_model=predict, pip_requirements=[\"pandas\"])\n",
    "    run_id = mlflow.active_run().info.run_id\n",
    "\n",
    "# Load the model from the tracking server and perform inference\n",
    "model = mlflow.pyfunc.load_model(f\"runs:/{run_id}/model\")\n",
    "x_new = pd.Series([1,2,3,4,5])\n",
    "\n",
    "prediction = model.predict(x_new)\n",
    "print(prediction)"
   ]
  },
  {
   "cell_type": "markdown",
   "metadata": {},
   "source": [
    "### Class-based Model\n",
    "\n",
    "If you’re looking to serialize a more complex object, for instance a class that handles preprocessing, complex prediction logic, or custom serialization, you should subclass the PythonModel class.\n",
    "\n",
    "--------\n",
    "```python\n",
    "import mlflow\n",
    "import pandas as pd\n",
    "\n",
    "class MyModel(mlflow.pyfunc.PythonModel):\n",
    "    def predict(self, context, model_input, params=None):\n",
    "        return [x*2 for x in model_input]\n",
    "\n",
    "# Save the function as a model\n",
    "with mlflow.start_run():\n",
    "    mlflow.pyfunc.log_model(\"model\", python_model=MyModel(), pip_requirements=[\"pandas\"])\n",
    "    run_id = mlflow.active_run().info.run_id\n",
    "\n",
    "# Load the model from the tracking server and perform inference\n",
    "model = mlflow.pyfunc.load_model(f\"runs:/{run_id}/model\")\n",
    "x_new = pd.Series([1, 2, 3])\n",
    "\n",
    "print(f\"Prediction:\n",
    "    {model.predict(x_new)}\")\n",
    "```\n",
    "--------\n",
    "\n",
    "Basic Guidelines for a PythonModel\n",
    "\n",
    "The guidelines for this approach are as follows:\n",
    "\n",
    "* Your class must be a subclass of mlflow.pyfunc.PythonModel\n",
    "\n",
    "* Your class must implement a predict method\n",
    "\n",
    "* The predict method must adhere to the requirements of the Inference API.\n",
    "\n",
    "* The predict method must have reference to context as the first named argument\n",
    "\n",
    "* If you wish to provide parameters with your model, these must be defined as part of the model signature. The signature must be saved along with the model.\n",
    "\n",
    "* If you intend to have additional functionality execute when loading the model (such as loading additional dependent files), you may decide to define the load_context method in your class.\n",
    "\n"
   ]
  },
  {
   "cell_type": "code",
   "execution_count": 5,
   "metadata": {},
   "outputs": [],
   "source": [
    "class CustomModel(mlflow.pyfunc.PythonModel):\n",
    "    def __init__(self):\n",
    "        pass\n",
    "\n",
    "    def predict(self, context, model_input):\n",
    "        return model_input.apply(lambda x: x * 2)"
   ]
  },
  {
   "cell_type": "code",
   "execution_count": 6,
   "metadata": {},
   "outputs": [
    {
     "name": "stderr",
     "output_type": "stream",
     "text": [
      "2024/12/03 07:48:15 WARNING mlflow.models.model: Model logged without a signature and input example. Please set `input_example` parameter when logging the model to auto infer the model signature.\n"
     ]
    },
    {
     "name": "stdout",
     "output_type": "stream",
     "text": [
      "b4f03dadb14d424a987b5081dd1a53b5\n"
     ]
    }
   ],
   "source": [
    "with mlflow.start_run(run_name=\"class_model\") as run:\n",
    "    print(run.info.run_id)\n",
    "    mlflow.pyfunc.log_model(\"model\", python_model=CustomModel(), pip_requirements=[\"pandas\"])\n",
    "    "
   ]
  },
  {
   "cell_type": "code",
   "execution_count": 7,
   "metadata": {},
   "outputs": [
    {
     "name": "stdout",
     "output_type": "stream",
     "text": [
      "0     2\n",
      "1     4\n",
      "2     6\n",
      "3     8\n",
      "4    10\n",
      "dtype: int64\n"
     ]
    }
   ],
   "source": [
    "loaded_model = mlflow.pyfunc.load_model(f\"runs:/{run.info.run_id}/model\")\n",
    "prediction = loaded_model.predict(x_new)\n",
    "print(prediction)"
   ]
  },
  {
   "cell_type": "markdown",
   "metadata": {},
   "source": [
    "# Obtaining the original Class"
   ]
  },
  {
   "cell_type": "code",
   "execution_count": 17,
   "metadata": {},
   "outputs": [],
   "source": [
    "class CustomModel(mlflow.pyfunc.PythonModel):\n",
    "    def __init__(self):\n",
    "        pass\n",
    "\n",
    "    def predict(self, context, model_input):\n",
    "        return model_input.apply(lambda x: x * 2)\n",
    "    \n",
    "    def load_context(self, context):\n",
    "        print(\"Running when loading the model\")\n",
    "\n",
    "    def additional_method(self):\n",
    "        print(\"Running an additional method\")"
   ]
  },
  {
   "cell_type": "code",
   "execution_count": 18,
   "metadata": {},
   "outputs": [
    {
     "name": "stderr",
     "output_type": "stream",
     "text": [
      "2024/12/03 07:51:27 WARNING mlflow.models.model: Model logged without a signature and input example. Please set `input_example` parameter when logging the model to auto infer the model signature.\n"
     ]
    },
    {
     "name": "stdout",
     "output_type": "stream",
     "text": [
      "4108e210ba80443aa9433f66aafac945\n"
     ]
    }
   ],
   "source": [
    "with mlflow.start_run(run_name=\"class_model_with_additional_methods\") as run:\n",
    "    print(run.info.run_id)\n",
    "    mlflow.pyfunc.log_model(\"model\", python_model=CustomModel(), pip_requirements=[\"pandas\"])\n",
    "    "
   ]
  },
  {
   "cell_type": "code",
   "execution_count": 19,
   "metadata": {},
   "outputs": [
    {
     "name": "stdout",
     "output_type": "stream",
     "text": [
      "Running when loading the model\n",
      "0     2\n",
      "1     4\n",
      "2     6\n",
      "3     8\n",
      "4    10\n",
      "dtype: int64\n"
     ]
    }
   ],
   "source": [
    "loaded_model = mlflow.pyfunc.load_model(f\"runs:/{run.info.run_id}/model\")\n",
    "prediction = loaded_model.predict(x_new)\n",
    "print(prediction)"
   ]
  },
  {
   "cell_type": "code",
   "execution_count": 20,
   "metadata": {},
   "outputs": [
    {
     "data": {
      "text/plain": [
       "mlflow.pyfunc.PyFuncModel"
      ]
     },
     "execution_count": 20,
     "metadata": {},
     "output_type": "execute_result"
    }
   ],
   "source": [
    "type(loaded_model)"
   ]
  },
  {
   "cell_type": "code",
   "execution_count": null,
   "metadata": {},
   "outputs": [
    {
     "name": "stdout",
     "output_type": "stream",
     "text": [
      "Running an additional method\n"
     ]
    }
   ],
   "source": [
    "# I can use the method \"unwrap_python_model\" to get the original class\n",
    "original_class = loaded_model.unwrap_python_model()\n",
    "original_class.additional_method()"
   ]
  },
  {
   "cell_type": "code",
   "execution_count": null,
   "metadata": {},
   "outputs": [],
   "source": []
  }
 ],
 "metadata": {
  "kernelspec": {
   "display_name": ".venv",
   "language": "python",
   "name": "python3"
  },
  "language_info": {
   "codemirror_mode": {
    "name": "ipython",
    "version": 3
   },
   "file_extension": ".py",
   "mimetype": "text/x-python",
   "name": "python",
   "nbconvert_exporter": "python",
   "pygments_lexer": "ipython3",
   "version": "3.11.8"
  }
 },
 "nbformat": 4,
 "nbformat_minor": 2
}
