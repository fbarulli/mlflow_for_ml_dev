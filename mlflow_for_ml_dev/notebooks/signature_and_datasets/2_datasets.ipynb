{
 "cells": [
  {
   "cell_type": "markdown",
   "metadata": {},
   "source": [
    "# Dataset Tracking"
   ]
  },
  {
   "cell_type": "markdown",
   "metadata": {},
   "source": [
    "The `mlflow.data` module is an integral part of the MLflow ecosystem, designed to enhance your machine learning workflow. This module enables you to record and retrieve dataset information during model training and evaluation, leveraging MLflow’s tracking capabilities."
   ]
  },
  {
   "cell_type": "markdown",
   "metadata": {},
   "source": [
    "## Dataset\n",
    "\n",
    "The Dataset abstraction is a metadata tracking object that holds the information about a given logged dataset.\n",
    "\n",
    "The information stored within a Dataset object includes features, targets, and predictions, along with metadata like the dataset’s name, digest (hash), schema, and profile. You can log this metadata using the mlflow.log_input() API. The module provides functions to construct mlflow.data.dataset.Dataset objects from various data types.\n",
    "\n",
    "There are a number of concrete implementations of this abstract class, including:\n",
    "\n",
    "* mlflow.data.spark_dataset.SparkDataset\n",
    "\n",
    "* mlflow.data.pandas_dataset.PandasDataset\n",
    "\n",
    "* mlflow.data.numpy_dataset.NumpyDataset\n",
    "\n",
    "* mlflow.data.huggingface_dataset.HuggingFaceDataset\n",
    "\n",
    "* mlflow.data.spark_dataset.SparkDataset"
   ]
  },
  {
   "cell_type": "code",
   "execution_count": 1,
   "metadata": {},
   "outputs": [],
   "source": [
    "from mlflow_for_ml_dev.experiments.exp_utils import get_or_create_experiment\n",
    "import mlflow "
   ]
  },
  {
   "cell_type": "code",
   "execution_count": 10,
   "metadata": {},
   "outputs": [
    {
     "name": "stdout",
     "output_type": "stream",
     "text": [
      "Experiment with name tracking_datasets and ID 528950709966603598 created.\n"
     ]
    }
   ],
   "source": [
    "# Create experiment \n",
    "\n",
    "experiment_name = \"tracking_datasets\"\n",
    "tags = {\"mlflow.note.content\": \"This experiment is used to track datasets used in the project\"}\n",
    "experiment_id = get_or_create_experiment(\n",
    "    experiment_name=experiment_name,\n",
    "    tags=tags\n",
    ")"
   ]
  },
  {
   "cell_type": "markdown",
   "metadata": {},
   "source": [
    "## Pandas Dataset"
   ]
  },
  {
   "cell_type": "code",
   "execution_count": null,
   "metadata": {},
   "outputs": [
    {
     "name": "stderr",
     "output_type": "stream",
     "text": [
      "c:\\Users\\manue\\projects\\mlflow_for_ml_dev\\.venv\\Lib\\site-packages\\mlflow\\data\\dataset_source_registry.py:149: UserWarning: Failed to determine whether UCVolumeDatasetSource can resolve source information for 'https://raw.githubusercontent.com/mlflow/mlflow/master/tests/datasets/winequality-white.csv'. Exception: \n",
      "  return _dataset_source_registry.resolve(\n"
     ]
    }
   ],
   "source": [
    "from mlflow.data.pandas_dataset import PandasDataset\n",
    "import pandas as pd\n",
    "\n",
    "dataset_source_url = \"https://raw.githubusercontent.com/mlflow/mlflow/master/tests/datasets/winequality-white.csv\"\n",
    "raw_data = pd.read_csv(dataset_source_url, delimiter=\";\")\n",
    "\n",
    "# Create an instance of a PandasDataset\n",
    "dataset = mlflow.data.from_pandas(\n",
    "    raw_data, source=dataset_source_url, name=\"wine quality - white\", targets=\"quality\"\n",
    ")"
   ]
  },
  {
   "cell_type": "code",
   "execution_count": 9,
   "metadata": {},
   "outputs": [
    {
     "data": {
      "text/plain": [
       "{'name': 'wine quality - white',\n",
       " 'digest': '2a1e42c4',\n",
       " 'source': '{\"url\": \"https://raw.githubusercontent.com/mlflow/mlflow/master/tests/datasets/winequality-white.csv\"}',\n",
       " 'source_type': 'http',\n",
       " 'schema': '{\"mlflow_colspec\": [{\"type\": \"double\", \"name\": \"fixed acidity\", \"required\": true}, {\"type\": \"double\", \"name\": \"volatile acidity\", \"required\": true}, {\"type\": \"double\", \"name\": \"citric acid\", \"required\": true}, {\"type\": \"double\", \"name\": \"residual sugar\", \"required\": true}, {\"type\": \"double\", \"name\": \"chlorides\", \"required\": true}, {\"type\": \"double\", \"name\": \"free sulfur dioxide\", \"required\": true}, {\"type\": \"double\", \"name\": \"total sulfur dioxide\", \"required\": true}, {\"type\": \"double\", \"name\": \"density\", \"required\": true}, {\"type\": \"double\", \"name\": \"pH\", \"required\": true}, {\"type\": \"double\", \"name\": \"sulphates\", \"required\": true}, {\"type\": \"double\", \"name\": \"alcohol\", \"required\": true}, {\"type\": \"long\", \"name\": \"quality\", \"required\": true}]}',\n",
       " 'profile': '{\"num_rows\": 4898, \"num_elements\": 58776}'}"
      ]
     },
     "execution_count": 9,
     "metadata": {},
     "output_type": "execute_result"
    }
   ],
   "source": [
    "dataset.to_dict()"
   ]
  },
  {
   "cell_type": "code",
   "execution_count": 11,
   "metadata": {},
   "outputs": [],
   "source": [
    "with mlflow.start_run(run_name=\"pandas-dataset\") as run:\n",
    "    mlflow.log_input(dataset=dataset, context=\"raw_data\")"
   ]
  },
  {
   "cell_type": "code",
   "execution_count": 12,
   "metadata": {},
   "outputs": [],
   "source": [
    "run = mlflow.get_run(run.info.run_id)"
   ]
  },
  {
   "cell_type": "code",
   "execution_count": 22,
   "metadata": {},
   "outputs": [
    {
     "name": "stdout",
     "output_type": "stream",
     "text": [
      "Dataset name: wine quality - white\n",
      "Dataset digest: 2a1e42c4\n",
      "Dataset profile: {\"num_rows\": 4898, \"num_elements\": 58776}\n",
      "Dataset schema: {\"mlflow_colspec\": [{\"type\": \"double\", \"name\": \"fixed acidity\", \"required\": true}, {\"type\": \"double\", \"name\": \"volatile acidity\", \"required\": true}, {\"type\": \"double\", \"name\": \"citric acid\", \"required\": true}, {\"type\": \"double\", \"name\": \"residual sugar\", \"required\": true}, {\"type\": \"double\", \"name\": \"chlorides\", \"required\": true}, {\"type\": \"double\", \"name\": \"free sulfur dioxide\", \"required\": true}, {\"type\": \"double\", \"name\": \"total sulfur dioxide\", \"required\": true}, {\"type\": \"double\", \"name\": \"density\", \"required\": true}, {\"type\": \"double\", \"name\": \"pH\", \"required\": true}, {\"type\": \"double\", \"name\": \"sulphates\", \"required\": true}, {\"type\": \"double\", \"name\": \"alcohol\", \"required\": true}, {\"type\": \"long\", \"name\": \"quality\", \"required\": true}]}\n"
     ]
    }
   ],
   "source": [
    "dataset_info = run.inputs.dataset_inputs[0].dataset\n",
    "print(f\"Dataset name: {dataset_info.name}\")\n",
    "print(f\"Dataset digest: {dataset_info.digest}\")\n",
    "print(f\"Dataset profile: {dataset_info.profile}\")\n",
    "print(f\"Dataset schema: {dataset_info.schema}\")"
   ]
  },
  {
   "cell_type": "code",
   "execution_count": 26,
   "metadata": {},
   "outputs": [],
   "source": [
    "# Load the dataset's source, which downloads the content from the source URL to the local\n",
    "# filesystem\n",
    "dataset_source = mlflow.data.get_source(dataset_info)\n",
    "df_url = dataset_source.load()"
   ]
  },
  {
   "cell_type": "code",
   "execution_count": 29,
   "metadata": {},
   "outputs": [],
   "source": [
    "retrieved_df = pd.read_csv(df_url, delimiter=\";\")"
   ]
  },
  {
   "cell_type": "code",
   "execution_count": 30,
   "metadata": {},
   "outputs": [
    {
     "data": {
      "text/html": [
       "<div>\n",
       "<style scoped>\n",
       "    .dataframe tbody tr th:only-of-type {\n",
       "        vertical-align: middle;\n",
       "    }\n",
       "\n",
       "    .dataframe tbody tr th {\n",
       "        vertical-align: top;\n",
       "    }\n",
       "\n",
       "    .dataframe thead th {\n",
       "        text-align: right;\n",
       "    }\n",
       "</style>\n",
       "<table border=\"1\" class=\"dataframe\">\n",
       "  <thead>\n",
       "    <tr style=\"text-align: right;\">\n",
       "      <th></th>\n",
       "      <th>fixed acidity</th>\n",
       "      <th>volatile acidity</th>\n",
       "      <th>citric acid</th>\n",
       "      <th>residual sugar</th>\n",
       "      <th>chlorides</th>\n",
       "      <th>free sulfur dioxide</th>\n",
       "      <th>total sulfur dioxide</th>\n",
       "      <th>density</th>\n",
       "      <th>pH</th>\n",
       "      <th>sulphates</th>\n",
       "      <th>alcohol</th>\n",
       "      <th>quality</th>\n",
       "    </tr>\n",
       "  </thead>\n",
       "  <tbody>\n",
       "    <tr>\n",
       "      <th>0</th>\n",
       "      <td>7.0</td>\n",
       "      <td>0.27</td>\n",
       "      <td>0.36</td>\n",
       "      <td>20.7</td>\n",
       "      <td>0.045</td>\n",
       "      <td>45.0</td>\n",
       "      <td>170.0</td>\n",
       "      <td>1.0010</td>\n",
       "      <td>3.00</td>\n",
       "      <td>0.45</td>\n",
       "      <td>8.8</td>\n",
       "      <td>6</td>\n",
       "    </tr>\n",
       "    <tr>\n",
       "      <th>1</th>\n",
       "      <td>6.3</td>\n",
       "      <td>0.30</td>\n",
       "      <td>0.34</td>\n",
       "      <td>1.6</td>\n",
       "      <td>0.049</td>\n",
       "      <td>14.0</td>\n",
       "      <td>132.0</td>\n",
       "      <td>0.9940</td>\n",
       "      <td>3.30</td>\n",
       "      <td>0.49</td>\n",
       "      <td>9.5</td>\n",
       "      <td>6</td>\n",
       "    </tr>\n",
       "    <tr>\n",
       "      <th>2</th>\n",
       "      <td>8.1</td>\n",
       "      <td>0.28</td>\n",
       "      <td>0.40</td>\n",
       "      <td>6.9</td>\n",
       "      <td>0.050</td>\n",
       "      <td>30.0</td>\n",
       "      <td>97.0</td>\n",
       "      <td>0.9951</td>\n",
       "      <td>3.26</td>\n",
       "      <td>0.44</td>\n",
       "      <td>10.1</td>\n",
       "      <td>6</td>\n",
       "    </tr>\n",
       "    <tr>\n",
       "      <th>3</th>\n",
       "      <td>7.2</td>\n",
       "      <td>0.23</td>\n",
       "      <td>0.32</td>\n",
       "      <td>8.5</td>\n",
       "      <td>0.058</td>\n",
       "      <td>47.0</td>\n",
       "      <td>186.0</td>\n",
       "      <td>0.9956</td>\n",
       "      <td>3.19</td>\n",
       "      <td>0.40</td>\n",
       "      <td>9.9</td>\n",
       "      <td>6</td>\n",
       "    </tr>\n",
       "    <tr>\n",
       "      <th>4</th>\n",
       "      <td>7.2</td>\n",
       "      <td>0.23</td>\n",
       "      <td>0.32</td>\n",
       "      <td>8.5</td>\n",
       "      <td>0.058</td>\n",
       "      <td>47.0</td>\n",
       "      <td>186.0</td>\n",
       "      <td>0.9956</td>\n",
       "      <td>3.19</td>\n",
       "      <td>0.40</td>\n",
       "      <td>9.9</td>\n",
       "      <td>6</td>\n",
       "    </tr>\n",
       "  </tbody>\n",
       "</table>\n",
       "</div>"
      ],
      "text/plain": [
       "   fixed acidity  volatile acidity  citric acid  residual sugar  chlorides  \\\n",
       "0            7.0              0.27         0.36            20.7      0.045   \n",
       "1            6.3              0.30         0.34             1.6      0.049   \n",
       "2            8.1              0.28         0.40             6.9      0.050   \n",
       "3            7.2              0.23         0.32             8.5      0.058   \n",
       "4            7.2              0.23         0.32             8.5      0.058   \n",
       "\n",
       "   free sulfur dioxide  total sulfur dioxide  density    pH  sulphates  \\\n",
       "0                 45.0                 170.0   1.0010  3.00       0.45   \n",
       "1                 14.0                 132.0   0.9940  3.30       0.49   \n",
       "2                 30.0                  97.0   0.9951  3.26       0.44   \n",
       "3                 47.0                 186.0   0.9956  3.19       0.40   \n",
       "4                 47.0                 186.0   0.9956  3.19       0.40   \n",
       "\n",
       "   alcohol  quality  \n",
       "0      8.8        6  \n",
       "1      9.5        6  \n",
       "2     10.1        6  \n",
       "3      9.9        6  \n",
       "4      9.9        6  "
      ]
     },
     "execution_count": 30,
     "metadata": {},
     "output_type": "execute_result"
    }
   ],
   "source": [
    "retrieved_df.head()"
   ]
  },
  {
   "cell_type": "markdown",
   "metadata": {},
   "source": [
    "## Numpy Dataset"
   ]
  },
  {
   "cell_type": "markdown",
   "metadata": {},
   "source": [
    "### Basic Example"
   ]
  },
  {
   "cell_type": "code",
   "execution_count": null,
   "metadata": {},
   "outputs": [],
   "source": [
    "import numpy as np\n",
    "\n",
    "x = np.random.uniform(size=[2, 5, 4])\n",
    "y = np.random.randint(2, size=[2])\n",
    "np_dataset = mlflow.data.from_numpy(x, targets=y)"
   ]
  },
  {
   "cell_type": "code",
   "execution_count": 36,
   "metadata": {},
   "outputs": [
    {
     "data": {
      "text/plain": [
       "array([[[0.18453265, 0.63159549, 0.04967797, 0.21466798],\n",
       "        [0.98902142, 0.97320733, 0.7824624 , 0.91210244],\n",
       "        [0.73143932, 0.55768062, 0.19484916, 0.36995325],\n",
       "        [0.43176435, 0.85734025, 0.7916474 , 0.52764688],\n",
       "        [0.25803976, 0.11513334, 0.44953914, 0.56404576]],\n",
       "\n",
       "       [[0.77407644, 0.55709479, 0.84733835, 0.41060854],\n",
       "        [0.13880843, 0.30767282, 0.06552621, 0.21235701],\n",
       "        [0.45623034, 0.48439548, 0.02537879, 0.30928973],\n",
       "        [0.75213861, 0.6372964 , 0.94310921, 0.87853547],\n",
       "        [0.27740635, 0.39767504, 0.93397464, 0.59336445]]])"
      ]
     },
     "execution_count": 36,
     "metadata": {},
     "output_type": "execute_result"
    }
   ],
   "source": [
    "np_dataset.features"
   ]
  },
  {
   "cell_type": "markdown",
   "metadata": {},
   "source": [
    "### Basic Example Dictionary"
   ]
  },
  {
   "cell_type": "code",
   "execution_count": 42,
   "metadata": {},
   "outputs": [],
   "source": [
    "x = {\n",
    "    \"feature_1\": np.random.uniform(size=[2, 5, 4]),\n",
    "    \"feature_2\": np.random.uniform(size=[2, 5, 4]),\n",
    "}\n",
    "y = np.random.randint(2, size=[2])\n",
    "np_dataset = mlflow.data.from_numpy(x, targets=y)"
   ]
  },
  {
   "cell_type": "code",
   "execution_count": 39,
   "metadata": {},
   "outputs": [
    {
     "data": {
      "text/plain": [
       "{'feature_1': array([[[4.55826568e-02, 4.78446923e-01, 3.15908997e-01, 3.79682041e-01],\n",
       "         [4.17614629e-01, 6.07581693e-01, 2.85869982e-01, 5.51701404e-02],\n",
       "         [1.96942372e-01, 1.30319372e-01, 6.34504643e-01, 8.64324696e-01],\n",
       "         [6.57352854e-01, 9.13275328e-01, 4.24117694e-01, 1.94300361e-01],\n",
       "         [5.38021309e-01, 9.12497340e-02, 9.62126486e-01, 5.32253657e-01]],\n",
       " \n",
       "        [[1.71470016e-01, 8.43150765e-01, 8.60694693e-01, 6.38001332e-01],\n",
       "         [6.14422882e-02, 1.06908744e-04, 2.61745933e-01, 8.20126831e-01],\n",
       "         [5.59659619e-01, 4.24912754e-01, 2.02055064e-01, 9.44831362e-01],\n",
       "         [4.91865078e-01, 7.31700156e-01, 3.30916939e-01, 2.79093727e-01],\n",
       "         [7.75922987e-01, 6.18393515e-01, 1.64727812e-01, 1.02433782e-02]]]),\n",
       " 'feature_2': array([[[0.07337427, 0.80992585, 0.35398261, 0.96412994],\n",
       "         [0.83556886, 0.01345509, 0.9248515 , 0.23248917],\n",
       "         [0.45451284, 0.1213721 , 0.6359282 , 0.06176179],\n",
       "         [0.38621753, 0.65032151, 0.74505528, 0.41242106],\n",
       "         [0.63438438, 0.65061239, 0.56162178, 0.45386461]],\n",
       " \n",
       "        [[0.48543812, 0.27277911, 0.71304899, 0.44636118],\n",
       "         [0.19366439, 0.56978321, 0.38163719, 0.53687253],\n",
       "         [0.36788253, 0.38342852, 0.49931446, 0.3013107 ],\n",
       "         [0.9393588 , 0.26907897, 0.96248382, 0.81936612],\n",
       "         [0.82213147, 0.92072048, 0.48294047, 0.07111053]]])}"
      ]
     },
     "execution_count": 39,
     "metadata": {},
     "output_type": "execute_result"
    }
   ],
   "source": [
    "np_dataset.features"
   ]
  },
  {
   "cell_type": "code",
   "execution_count": 43,
   "metadata": {},
   "outputs": [],
   "source": [
    "with mlflow.start_run(run_name=\"numpy-dataset\") as run:\n",
    "    mlflow.log_input(dataset=np_dataset, context=\"raw_data\")"
   ]
  },
  {
   "cell_type": "code",
   "execution_count": 44,
   "metadata": {},
   "outputs": [
    {
     "name": "stdout",
     "output_type": "stream",
     "text": [
      "Dataset name: dataset\n",
      "Dataset digest: 42c20947\n",
      "Dataset profile: {\"features_shape\": {\"feature_1\": [2, 5, 4], \"feature_2\": [2, 5, 4]}, \"features_size\": {\"feature_1\": 40, \"feature_2\": 40}, \"features_nbytes\": {\"feature_1\": 320, \"feature_2\": 320}, \"targets_shape\": [2], \"targets_size\": 2, \"targets_nbytes\": 8}\n",
      "Dataset schema: {\"mlflow_tensorspec\": {\"features\": \"[{\\\"name\\\": \\\"feature_1\\\", \\\"type\\\": \\\"tensor\\\", \\\"tensor-spec\\\": {\\\"dtype\\\": \\\"float64\\\", \\\"shape\\\": [-1, 5, 4]}}, {\\\"name\\\": \\\"feature_2\\\", \\\"type\\\": \\\"tensor\\\", \\\"tensor-spec\\\": {\\\"dtype\\\": \\\"float64\\\", \\\"shape\\\": [-1, 5, 4]}}]\", \"targets\": \"[{\\\"type\\\": \\\"tensor\\\", \\\"tensor-spec\\\": {\\\"dtype\\\": \\\"int32\\\", \\\"shape\\\": [-1]}}]\"}}\n"
     ]
    }
   ],
   "source": [
    "# retrieve the np dataset\n",
    "run = mlflow.get_run(run.info.run_id)\n",
    "np_dataset_info = run.inputs.dataset_inputs[0].dataset\n",
    "print(f\"Dataset name: {np_dataset_info.name}\")\n",
    "print(f\"Dataset digest: {np_dataset_info.digest}\")\n",
    "print(f\"Dataset profile: {np_dataset_info.profile}\")\n",
    "print(f\"Dataset schema: {np_dataset_info.schema}\")\n"
   ]
  },
  {
   "cell_type": "code",
   "execution_count": null,
   "metadata": {},
   "outputs": [],
   "source": []
  }
 ],
 "metadata": {
  "kernelspec": {
   "display_name": ".venv",
   "language": "python",
   "name": "python3"
  },
  "language_info": {
   "codemirror_mode": {
    "name": "ipython",
    "version": 3
   },
   "file_extension": ".py",
   "mimetype": "text/x-python",
   "name": "python",
   "nbconvert_exporter": "python",
   "pygments_lexer": "ipython3",
   "version": "3.11.8"
  }
 },
 "nbformat": 4,
 "nbformat_minor": 2
}
