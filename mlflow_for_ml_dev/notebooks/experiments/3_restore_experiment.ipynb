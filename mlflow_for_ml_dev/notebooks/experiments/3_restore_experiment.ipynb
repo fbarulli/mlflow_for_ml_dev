{
 "cells": [
  {
   "cell_type": "markdown",
   "metadata": {},
   "source": [
    "# Restore Experiments"
   ]
  },
  {
   "cell_type": "code",
   "execution_count": 1,
   "metadata": {},
   "outputs": [],
   "source": [
    "import mlflow  "
   ]
  },
  {
   "cell_type": "code",
   "execution_count": 2,
   "metadata": {},
   "outputs": [],
   "source": [
    "deleted_experiments = mlflow.search_experiments(view_type=mlflow.entities.ViewType.DELETED_ONLY)"
   ]
  },
  {
   "cell_type": "code",
   "execution_count": 3,
   "metadata": {},
   "outputs": [
    {
     "name": "stdout",
     "output_type": "stream",
     "text": [
      "Name: 02-mlflow_experiment_management\n",
      "Experiment ID: 410906214185789992\n",
      "Lifecycle stage: deleted\n",
      "\n",
      "\n",
      "Name: 02-mlflow_experiment_management\n",
      "Experiment ID: 526056655648483792\n",
      "Lifecycle stage: deleted\n",
      "\n",
      "\n",
      "Name: 02-mlflow_experiment_management\n",
      "Experiment ID: 953573414254082876\n",
      "Lifecycle stage: deleted\n",
      "\n",
      "\n",
      "Name: 02-mlflow_experiment_management\n",
      "Experiment ID: 465131857611744552\n",
      "Lifecycle stage: deleted\n",
      "\n",
      "\n",
      "Name: main-concepts-04-renamed\n",
      "Experiment ID: 528269083760830486\n",
      "Lifecycle stage: deleted\n",
      "\n",
      "\n",
      "Name: main-concepts-03\n",
      "Experiment ID: 827829603635428632\n",
      "Lifecycle stage: deleted\n",
      "\n",
      "\n",
      "Name: main-concepts-02\n",
      "Experiment ID: 682414674497756855\n",
      "Lifecycle stage: deleted\n",
      "\n",
      "\n",
      "Name: main-concepts-01\n",
      "Experiment ID: 266958456446287739\n",
      "Lifecycle stage: deleted\n",
      "\n",
      "\n"
     ]
    }
   ],
   "source": [
    "for experiment in deleted_experiments:\n",
    "    print(f\"Name: {experiment.name}\")\n",
    "    print(f\"Experiment ID: {experiment.experiment_id}\")\n",
    "    print(f\"Lifecycle stage: {experiment.lifecycle_stage}\")\n",
    "    print(\"\\n\")"
   ]
  },
  {
   "cell_type": "markdown",
   "metadata": {},
   "source": [
    "# Restore Experiment"
   ]
  },
  {
   "cell_type": "code",
   "execution_count": 4,
   "metadata": {},
   "outputs": [],
   "source": [
    "experiment_id = \"410906214185789992\""
   ]
  },
  {
   "cell_type": "code",
   "execution_count": 5,
   "metadata": {},
   "outputs": [],
   "source": [
    "client = mlflow.MlflowClient()"
   ]
  },
  {
   "cell_type": "code",
   "execution_count": 6,
   "metadata": {},
   "outputs": [],
   "source": [
    "client.restore_experiment(experiment_id)\n",
    "experiment = mlflow.get_experiment(experiment_id)"
   ]
  },
  {
   "cell_type": "code",
   "execution_count": 7,
   "metadata": {},
   "outputs": [
    {
     "name": "stdout",
     "output_type": "stream",
     "text": [
      "Name: 02-mlflow_experiment_management\n",
      "Experiment ID: 410906214185789992\n",
      "Lifecycle stage: active\n"
     ]
    }
   ],
   "source": [
    "print(f\"Name: {experiment.name}\")\n",
    "print(f\"Experiment ID: {experiment.experiment_id}\")\n",
    "print(f\"Lifecycle stage: {experiment.lifecycle_stage}\")"
   ]
  },
  {
   "cell_type": "code",
   "execution_count": null,
   "metadata": {},
   "outputs": [],
   "source": []
  }
 ],
 "metadata": {
  "kernelspec": {
   "display_name": ".venv",
   "language": "python",
   "name": "python3"
  },
  "language_info": {
   "codemirror_mode": {
    "name": "ipython",
    "version": 3
   },
   "file_extension": ".py",
   "mimetype": "text/x-python",
   "name": "python",
   "nbconvert_exporter": "python",
   "pygments_lexer": "ipython3",
   "version": "3.11.8"
  }
 },
 "nbformat": 4,
 "nbformat_minor": 2
}
