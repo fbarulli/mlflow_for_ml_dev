{
 "cells": [
  {
   "cell_type": "markdown",
   "metadata": {},
   "source": [
    "# Restore Experiments"
   ]
  },
  {
   "cell_type": "code",
   "execution_count": 1,
   "metadata": {},
   "outputs": [],
   "source": [
    "import mlflow  \n",
    "from mlflow_for_ml_dev.experiments.exp_utils import get_or_create_experiment"
   ]
  },
  {
   "cell_type": "code",
   "execution_count": 2,
   "metadata": {},
   "outputs": [
    {
     "name": "stdout",
     "output_type": "stream",
     "text": [
      "Experiment with name restored_experiment and ID 292975371061073372 created.\n"
     ]
    }
   ],
   "source": [
    "experiment_name = \"restored_experiment\"\n",
    "experiment = get_or_create_experiment(experiment_name)"
   ]
  },
  {
   "cell_type": "code",
   "execution_count": 3,
   "metadata": {},
   "outputs": [],
   "source": [
    "deleted_experiments = mlflow.search_experiments(view_type=mlflow.entities.ViewType.DELETED_ONLY)"
   ]
  },
  {
   "cell_type": "code",
   "execution_count": 4,
   "metadata": {},
   "outputs": [
    {
     "name": "stdout",
     "output_type": "stream",
     "text": [
      "Name: 02-mlflow_experiment_management\n",
      "Experiment ID: 921591191607094505\n",
      "Lifecycle stage: deleted\n",
      "\n",
      "\n",
      "Name: main-concepts-04-renamed\n",
      "Experiment ID: 285824649429168784\n",
      "Lifecycle stage: deleted\n",
      "\n",
      "\n",
      "Name: main-concepts-03\n",
      "Experiment ID: 577829204363065087\n",
      "Lifecycle stage: deleted\n",
      "\n",
      "\n",
      "Name: main-concepts-02\n",
      "Experiment ID: 296316358379116739\n",
      "Lifecycle stage: deleted\n",
      "\n",
      "\n",
      "Name: main-concepts\n",
      "Experiment ID: 604224855623227522\n",
      "Lifecycle stage: deleted\n",
      "\n",
      "\n",
      "Name: test-experiment-3\n",
      "Experiment ID: 960811560144538766\n",
      "Lifecycle stage: deleted\n",
      "\n",
      "\n"
     ]
    }
   ],
   "source": [
    "for experiment in deleted_experiments:\n",
    "    print(f\"Name: {experiment.name}\")\n",
    "    print(f\"Experiment ID: {experiment.experiment_id}\")\n",
    "    print(f\"Lifecycle stage: {experiment.lifecycle_stage}\")\n",
    "    print(\"\\n\")"
   ]
  },
  {
   "cell_type": "markdown",
   "metadata": {},
   "source": [
    "# Restore Experiment"
   ]
  },
  {
   "cell_type": "code",
   "execution_count": 6,
   "metadata": {},
   "outputs": [
    {
     "name": "stdout",
     "output_type": "stream",
     "text": [
      "Restoring experiment with ID: 960811560144538766\n",
      "Experiment name: test-experiment-3\n",
      "Experiment lifecycle stage: deleted\n"
     ]
    }
   ],
   "source": [
    "experiment_id = experiment.experiment_id\n",
    "print(f\"Restoring experiment with ID: {experiment_id}\")\n",
    "print(f\"Experiment name: {experiment.name}\")    \n",
    "print(f\"Experiment lifecycle stage: {experiment.lifecycle_stage}\")"
   ]
  },
  {
   "cell_type": "code",
   "execution_count": 7,
   "metadata": {},
   "outputs": [],
   "source": [
    "client = mlflow.MlflowClient()"
   ]
  },
  {
   "cell_type": "code",
   "execution_count": 8,
   "metadata": {},
   "outputs": [],
   "source": [
    "client.restore_experiment(experiment_id)\n",
    "experiment = mlflow.get_experiment(experiment_id)"
   ]
  },
  {
   "cell_type": "code",
   "execution_count": 9,
   "metadata": {},
   "outputs": [
    {
     "name": "stdout",
     "output_type": "stream",
     "text": [
      "Name: test-experiment-3\n",
      "Experiment ID: 960811560144538766\n",
      "Lifecycle stage: active\n"
     ]
    }
   ],
   "source": [
    "print(f\"Name: {experiment.name}\")\n",
    "print(f\"Experiment ID: {experiment.experiment_id}\")\n",
    "print(f\"Lifecycle stage: {experiment.lifecycle_stage}\")"
   ]
  },
  {
   "cell_type": "code",
   "execution_count": null,
   "metadata": {},
   "outputs": [],
   "source": []
  }
 ],
 "metadata": {
  "kernelspec": {
   "display_name": ".venv",
   "language": "python",
   "name": "python3"
  },
  "language_info": {
   "codemirror_mode": {
    "name": "ipython",
    "version": 3
   },
   "file_extension": ".py",
   "mimetype": "text/x-python",
   "name": "python",
   "nbconvert_exporter": "python",
   "pygments_lexer": "ipython3",
   "version": "3.11.8"
  }
 },
 "nbformat": 4,
 "nbformat_minor": 2
}
