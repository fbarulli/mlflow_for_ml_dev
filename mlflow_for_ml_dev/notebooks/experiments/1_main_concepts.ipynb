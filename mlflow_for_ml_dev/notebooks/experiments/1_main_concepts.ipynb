{
 "cells": [
  {
   "cell_type": "markdown",
   "metadata": {},
   "source": [
    "# MLflow Tracking\n",
    "\n",
    "The MLflow Tracking is an API and UI for logging parameters, code versions, metrics, and output files when running your machine learning code and for later visualizing the results.\n",
    "\n",
    "## Concepts\n",
    "\n",
    "![Taken from MLflow Docs](https://mlflow.org/docs/latest/_images/tracking-basics.png)\n",
    "\n",
    "**Runs**\n",
    "\n",
    "MLflow Tracking is organized around the concept of runs, which are executions of some piece of data science code, for example, a single python train.py execution.\n",
    "\n",
    "\n",
    "**Experiments** \n",
    "\n",
    "An experiment groups together runs for a specific task. \n",
    "\n",
    "\n"
   ]
  },
  {
   "cell_type": "code",
   "execution_count": 1,
   "metadata": {},
   "outputs": [],
   "source": [
    "import mlflow \n",
    "from mlflow_for_ml_dev.utils.utils import get_root_project"
   ]
  },
  {
   "cell_type": "markdown",
   "metadata": {},
   "source": [
    "# Create an MLflow Experiment\n",
    "\n",
    "We can create a MLflow experiment using:\n",
    "\n",
    "```python\n",
    "mlflow.create_experiment(name: str, artifact_location: Optional[str] = None, tags: Optional[Dict[str, Any]] = None) → str\n",
    "```\n",
    "\n",
    "Parameters:\n",
    "\n",
    "* **name** – The experiment name, which must be a unique string.\n",
    "\n",
    "* **artifact_location** – The location to store run artifacts. If not provided, the server picks an appropriate default.\n",
    "\n",
    "* **tags** – An optional dictionary of string keys and values to set as tags on the experiment."
   ]
  },
  {
   "cell_type": "code",
   "execution_count": null,
   "metadata": {},
   "outputs": [],
   "source": [
    "# creating a new experiment providing the name\n",
    "experiment_id = mlflow.create_experiment(name=\"test-experiment\")\n",
    "print(f\"Experiment ID: {experiment_id}\")"
   ]
  },
  {
   "cell_type": "code",
   "execution_count": null,
   "metadata": {},
   "outputs": [],
   "source": [
    "with mlflow.start_run(run_name=\"test-run\") as run:\n",
    "    print(f\"Run ID: {run.info.run_id}\")\n",
    "    mlflow.log_param(\"param1\", 1)"
   ]
  },
  {
   "cell_type": "markdown",
   "metadata": {},
   "source": [
    "## Set an experiment as the active experiment\n",
    "\n",
    "We can set an experiment as the active experiment using:\n",
    "\n",
    "```python\n",
    "mlflow.set_experiment(experiment_name: Optional[str] = None, experiment_id: Optional[str] = None) → Experiment\n",
    "```\n",
    "\n",
    "Parameters\n",
    "\n",
    "* **experiment_name** – Case sensitive name of the experiment to be activated.\n",
    "\n",
    "* **experiment_id** – ID of the experiment to be activated. If an experiment with this ID does not exist, an exception is thrown."
   ]
  },
  {
   "cell_type": "code",
   "execution_count": 4,
   "metadata": {},
   "outputs": [],
   "source": [
    "experiment = mlflow.set_experiment(experiment_name=\"test-experiment\")"
   ]
  },
  {
   "cell_type": "code",
   "execution_count": null,
   "metadata": {},
   "outputs": [],
   "source": [
    "print(f\"Object Type: {type(experiment).__name__} \\n\")\n",
    "print(experiment.to_proto())"
   ]
  },
  {
   "cell_type": "code",
   "execution_count": null,
   "metadata": {},
   "outputs": [],
   "source": [
    "with mlflow.start_run(run_name=\"test-run\") as run:\n",
    "    print(f\"Run ID: {run.info.run_id}\")\n",
    "    mlflow.log_param(\"param1\", 1)"
   ]
  },
  {
   "cell_type": "code",
   "execution_count": null,
   "metadata": {},
   "outputs": [],
   "source": [
    "# Loggin an artifact\n",
    "with mlflow.start_run(run_name=\"test-run\") as run:\n",
    "    print(f\"Run ID: {run.info.run_id}\")\n",
    "    mlflow.log_text(\"This is a text artifact\", \"artifact.txt\")\n"
   ]
  },
  {
   "cell_type": "markdown",
   "metadata": {},
   "source": [
    "## Creating an experiment using a different artifact location"
   ]
  },
  {
   "cell_type": "code",
   "execution_count": null,
   "metadata": {},
   "outputs": [],
   "source": [
    "experiment_id = mlflow.create_experiment(name=\"test-experiment-2\", artifact_location=get_root_project().as_uri())\n",
    "print(f\"Experiment ID: {experiment_id}\")"
   ]
  },
  {
   "cell_type": "code",
   "execution_count": 9,
   "metadata": {},
   "outputs": [],
   "source": [
    "experiment = mlflow.set_experiment(experiment_name=\"test-experiment-2\")"
   ]
  },
  {
   "cell_type": "code",
   "execution_count": null,
   "metadata": {},
   "outputs": [],
   "source": [
    "# Loggin an artifact\n",
    "run_ids = []\n",
    "with mlflow.start_run(run_name=\"test-run\") as run:\n",
    "    print(f\"Run ID: {run.info.run_id}\")\n",
    "    mlflow.log_param(\"param1\", 1)\n",
    "    mlflow.log_text(\"This is a text artifact\", \"artifact.txt\")\n",
    "\n",
    "    run_ids.append(run.info.run_id)"
   ]
  },
  {
   "cell_type": "code",
   "execution_count": null,
   "metadata": {},
   "outputs": [],
   "source": [
    "# Loggin an artifact\n",
    "with mlflow.start_run(run_name=\"test-run\") as run:\n",
    "    print(f\"Run ID: {run.info.run_id}\")\n",
    "    mlflow.log_text(\"This is a text artifact\", \"artifact.txt\")\n",
    "    mlflow.log_param(\"param1\", 1)\n",
    "\n",
    "    run_ids.append(run.info.run_id)"
   ]
  },
  {
   "cell_type": "markdown",
   "metadata": {},
   "source": [
    "### Clean Up"
   ]
  },
  {
   "cell_type": "code",
   "execution_count": null,
   "metadata": {},
   "outputs": [],
   "source": [
    "import shutil\n",
    "\n",
    "shutil.rmtree(\"mlruns\")\n",
    "print(\"mlruns removed\")\n",
    "\n",
    "# remove run ids folders\n",
    "for run_id in run_ids:\n",
    "    shutil.rmtree(get_root_project() / run_id)\n",
    "    print(f\"Run {run_id} removed\")"
   ]
  },
  {
   "cell_type": "markdown",
   "metadata": {},
   "source": [
    "# Specify Tracking URI\n",
    "\n",
    "We can specify the tracking URI Using:\n",
    "\n",
    "```python\n",
    "mlflow.set_tracking_uri(uri: Union[str, pathlib.Path]) → None\n",
    "```\n",
    "* uri\n",
    "    * An empty string, or a local file path, prefixed with file:/. Data is stored locally at the provided file (or ./mlruns if empty).\n",
    "\n",
    "    * An HTTP URI like https://my-tracking-server:5000.\n",
    "\n",
    "    * A Databricks workspace, provided as the string “databricks” or, to use a Databricks CLI profile, “databricks://<profileName>”.\n",
    "    \n",
    "    * A pathlib.Path instance\n"
   ]
  },
  {
   "cell_type": "code",
   "execution_count": null,
   "metadata": {},
   "outputs": [],
   "source": [
    "artifact_location = get_root_project() / \"mlruns\"\n",
    "\n",
    "mlflow.set_tracking_uri(artifact_location.as_uri())\n",
    "print(artifact_location)"
   ]
  },
  {
   "cell_type": "code",
   "execution_count": null,
   "metadata": {},
   "outputs": [],
   "source": [
    "# Create experiment\n",
    "experiment_name = \"test-experiment-3\"\n",
    "experiment_id = mlflow.create_experiment(name=experiment_name)\n",
    "print(f\"Experiment ID: {experiment_id}\")"
   ]
  },
  {
   "cell_type": "markdown",
   "metadata": {},
   "source": [
    "After creating an experiment is necessary to set it as active experiment, otherwise mlflow would use the Default experiment."
   ]
  },
  {
   "cell_type": "code",
   "execution_count": null,
   "metadata": {},
   "outputs": [],
   "source": [
    "experiment = mlflow.set_experiment(experiment_name=experiment_name)\n",
    "\n",
    "print(f\"Object Type: {type(experiment).__name__} \\n\")\n",
    "print(experiment.to_proto())"
   ]
  },
  {
   "cell_type": "code",
   "execution_count": null,
   "metadata": {},
   "outputs": [],
   "source": [
    "with mlflow.start_run(run_name=\"test-run\") as run:\n",
    "    \n",
    "    print(f\"Run ID: {run.info.run_id}\")\n",
    "\n",
    "    mlflow.log_param(\"param1\", 1)\n",
    "    mlflow.log_text(\"This is a text artifact\", \"artifact.txt\")"
   ]
  },
  {
   "cell_type": "markdown",
   "metadata": {},
   "source": [
    "### Error!"
   ]
  },
  {
   "cell_type": "code",
   "execution_count": null,
   "metadata": {},
   "outputs": [],
   "source": [
    "mlflow.create_experiment(name=experiment_name)"
   ]
  },
  {
   "cell_type": "markdown",
   "metadata": {},
   "source": [
    "# Two Options\n",
    "\n",
    "## Capture the exception"
   ]
  },
  {
   "cell_type": "code",
   "execution_count": null,
   "metadata": {},
   "outputs": [],
   "source": [
    "try:\n",
    "    experiment_id = mlflow.create_experiment(name=experiment_name)\n",
    "    print(f\"Experiment ID: {experiment_id}\")\n",
    "except Exception as e:\n",
    "    print(f\"Error: {e}\")"
   ]
  },
  {
   "cell_type": "markdown",
   "metadata": {},
   "source": [
    "## Use `mlflow.set_experiment`"
   ]
  },
  {
   "cell_type": "code",
   "execution_count": null,
   "metadata": {},
   "outputs": [],
   "source": [
    "# Since the experiment already exists, we can set it as the active experiment\n",
    "experiment = mlflow.set_experiment(experiment_name = experiment_name)\n",
    "\n",
    "# we can also create the experiment if it does not exist\n",
    "new_experiment_name = \"main-concepts\"\n",
    "experiment = mlflow.set_experiment(experiment_name = new_experiment_name)\n",
    "\n",
    "print(f\"Object Type: {type(experiment).__name__} \\n\")\n",
    "print(experiment.to_proto())"
   ]
  },
  {
   "cell_type": "code",
   "execution_count": null,
   "metadata": {},
   "outputs": [],
   "source": [
    "# adding some data to the experiment\n",
    "with mlflow.start_run(run_name=\"test-run\") as run:\n",
    "    \n",
    "    print(f\"Run ID: {run.info.run_id}\")\n",
    "\n",
    "    mlflow.log_param(\"param1\", 1)\n",
    "    mlflow.log_text(\"This is a text artifact\", \"artifact.txt\")"
   ]
  },
  {
   "cell_type": "code",
   "execution_count": 21,
   "metadata": {},
   "outputs": [],
   "source": [
    "from mlflow_for_ml_dev.experiments.exp_utils import get_or_create_experiment"
   ]
  },
  {
   "cell_type": "code",
   "execution_count": null,
   "metadata": {},
   "outputs": [],
   "source": [
    "experiment = get_or_create_experiment(experiment_name = new_experiment_name)\n",
    "\n",
    "print(f\"Object Type: {type(experiment).__name__} \\n\")\n",
    "print(experiment.to_proto())"
   ]
  },
  {
   "cell_type": "markdown",
   "metadata": {},
   "source": [
    "## Adding tags"
   ]
  },
  {
   "cell_type": "code",
   "execution_count": 23,
   "metadata": {},
   "outputs": [],
   "source": [
    "experiment_name = \"main-concepts-02\"\n",
    "experiment = get_or_create_experiment(\n",
    "    experiment_name=experiment_name,\n",
    "    tags={\"topic\":\"experiment_management\", \"project_name\":\"UNKNOWN\"}\n",
    ")"
   ]
  },
  {
   "cell_type": "code",
   "execution_count": null,
   "metadata": {},
   "outputs": [],
   "source": [
    "# get the experiment tags\n",
    "experiment.tags"
   ]
  },
  {
   "cell_type": "markdown",
   "metadata": {},
   "source": [
    "## Adding a description"
   ]
  },
  {
   "cell_type": "code",
   "execution_count": 25,
   "metadata": {},
   "outputs": [],
   "source": [
    "experiment_name = \"main-concepts-03\"\n",
    "experiment = get_or_create_experiment(\n",
    "    experiment_name=experiment_name,\n",
    "    tags={\n",
    "        \"topic\":\"experiment_management\",\n",
    "        \"project_name\":\"UNKNOWN\",\n",
    "        \"mlflow.note.content\":\"This is a test experiment\"})"
   ]
  },
  {
   "cell_type": "code",
   "execution_count": null,
   "metadata": {},
   "outputs": [],
   "source": [
    "# get the experiment tags\n",
    "experiment.tags"
   ]
  },
  {
   "cell_type": "markdown",
   "metadata": {},
   "source": [
    "## Update Tags"
   ]
  },
  {
   "cell_type": "code",
   "execution_count": null,
   "metadata": {},
   "outputs": [],
   "source": [
    "experiment_name = \"main-concepts-04\"\n",
    "experiment = get_or_create_experiment(experiment_name)\n",
    "# experiment tags\n",
    "experiment.tags"
   ]
  },
  {
   "cell_type": "code",
   "execution_count": 28,
   "metadata": {},
   "outputs": [],
   "source": [
    "tags = {\n",
    "    \"tag1\": \"value1\",\n",
    "    \"tag2\": \"value2\"\n",
    "}\n",
    "mlflow.set_experiment_tags(tags=tags)\n"
   ]
  },
  {
   "cell_type": "code",
   "execution_count": null,
   "metadata": {},
   "outputs": [],
   "source": [
    "# get the updated experiment object\n",
    "experiment = get_or_create_experiment(experiment_name)\n",
    "\n",
    "# get the experiment tags\n",
    "experiment.tags"
   ]
  },
  {
   "cell_type": "code",
   "execution_count": 30,
   "metadata": {},
   "outputs": [],
   "source": [
    "# Update Value of tag1\n",
    "mlflow.set_experiment_tag(key=\"tag1\", value=\"new_value1\")\n",
    "\n",
    "# get the updated experiment object\n",
    "experiment = get_or_create_experiment(experiment_name)"
   ]
  },
  {
   "cell_type": "code",
   "execution_count": null,
   "metadata": {},
   "outputs": [],
   "source": [
    "# get the experiment tags\n",
    "experiment.tags"
   ]
  },
  {
   "cell_type": "markdown",
   "metadata": {},
   "source": [
    "## Using the client to set a tag"
   ]
  },
  {
   "cell_type": "code",
   "execution_count": 32,
   "metadata": {},
   "outputs": [],
   "source": [
    "client = mlflow.MlflowClient()"
   ]
  },
  {
   "cell_type": "code",
   "execution_count": null,
   "metadata": {},
   "outputs": [],
   "source": [
    "experiment.experiment_id"
   ]
  },
  {
   "cell_type": "code",
   "execution_count": 34,
   "metadata": {},
   "outputs": [],
   "source": [
    "client.set_experiment_tag(experiment_id = experiment.experiment_id, key=\"tag3\", value=\"value3\")"
   ]
  },
  {
   "cell_type": "code",
   "execution_count": null,
   "metadata": {},
   "outputs": [],
   "source": [
    "experiment = get_or_create_experiment(experiment_name)\n",
    "\n",
    "# get the experiment tags\n",
    "experiment.tags"
   ]
  },
  {
   "cell_type": "markdown",
   "metadata": {},
   "source": [
    "## Rename Experiment"
   ]
  },
  {
   "cell_type": "code",
   "execution_count": 36,
   "metadata": {},
   "outputs": [],
   "source": [
    "new_name = \"main-concepts-04-renamed\"\n",
    "client.rename_experiment(experiment_id = experiment.experiment_id, new_name=new_name)"
   ]
  },
  {
   "cell_type": "code",
   "execution_count": null,
   "metadata": {},
   "outputs": [],
   "source": [
    "experiment = get_or_create_experiment(new_name)\n",
    "\n",
    "experiment.name"
   ]
  },
  {
   "cell_type": "markdown",
   "metadata": {},
   "source": [
    "## Clean Up"
   ]
  },
  {
   "cell_type": "code",
   "execution_count": 38,
   "metadata": {},
   "outputs": [],
   "source": [
    "main_concepts_experiments = mlflow.search_experiments(filter_string=\"name LIKE 'main-concepts%'\")\n",
    "test_experiments = mlflow.search_experiments(filter_string=\"name LIKE 'test-experiment%'\")\n",
    "experiments = main_concepts_experiments + test_experiments"
   ]
  },
  {
   "cell_type": "code",
   "execution_count": null,
   "metadata": {},
   "outputs": [],
   "source": [
    "for exp in experiments:\n",
    "    print(exp.experiment_id, exp.name, exp.tags)"
   ]
  },
  {
   "cell_type": "code",
   "execution_count": null,
   "metadata": {},
   "outputs": [],
   "source": [
    "for experiment in experiments:\n",
    "    print(f\"Deleting: {experiment.name}\")\n",
    "    mlflow.delete_experiment(experiment.experiment_id)"
   ]
  },
  {
   "cell_type": "code",
   "execution_count": null,
   "metadata": {},
   "outputs": [],
   "source": []
  }
 ],
 "metadata": {
  "kernelspec": {
   "display_name": ".venv",
   "language": "python",
   "name": "python3"
  },
  "language_info": {
   "codemirror_mode": {
    "name": "ipython",
    "version": 3
   },
   "file_extension": ".py",
   "mimetype": "text/x-python",
   "name": "python",
   "nbconvert_exporter": "python",
   "pygments_lexer": "ipython3",
   "version": "3.11.8"
  }
 },
 "nbformat": 4,
 "nbformat_minor": 2
}
