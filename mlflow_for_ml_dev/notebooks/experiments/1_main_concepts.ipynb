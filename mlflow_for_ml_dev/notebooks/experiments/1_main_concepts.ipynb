{
 "cells": [
  {
   "cell_type": "markdown",
   "metadata": {},
   "source": [
    "# MLflow Tracking\n",
    "\n",
    "The MLflow Tracking is an API and UI for logging parameters, code versions, metrics, and output files when running your machine learning code and for later visualizing the results.\n",
    "\n",
    "## Concepts\n",
    "\n",
    "![Taken from MLflow Docs](https://mlflow.org/docs/latest/_images/tracking-basics.png)\n",
    "\n",
    "**Runs**\n",
    "\n",
    "MLflow Tracking is organized around the concept of runs, which are executions of some piece of data science code, for example, a single python train.py execution.\n",
    "\n",
    "\n",
    "**Experiments** \n",
    "\n",
    "An experiment groups together runs for a specific task. \n",
    "\n",
    "\n"
   ]
  },
  {
   "cell_type": "code",
   "execution_count": 1,
   "metadata": {},
   "outputs": [],
   "source": [
    "import mlflow \n",
    "from mlflow_for_ml_dev.utils.utils import get_root_project"
   ]
  },
  {
   "cell_type": "markdown",
   "metadata": {},
   "source": [
    "# Create an MLflow Experiment\n",
    "\n",
    "We can create a MLflow experiment using:\n",
    "\n",
    "```python\n",
    "mlflow.create_experiment(name: str, artifact_location: Optional[str] = None, tags: Optional[Dict[str, Any]] = None) → str\n",
    "```\n",
    "\n",
    "Parameters:\n",
    "\n",
    "* **name** – The experiment name, which must be a unique string.\n",
    "\n",
    "* **artifact_location** – The location to store run artifacts. If not provided, the server picks an appropriate default.\n",
    "\n",
    "* **tags** – An optional dictionary of string keys and values to set as tags on the experiment."
   ]
  },
  {
   "cell_type": "code",
   "execution_count": 2,
   "metadata": {},
   "outputs": [
    {
     "name": "stdout",
     "output_type": "stream",
     "text": [
      "962178648349282381\n"
     ]
    }
   ],
   "source": [
    "# creating a new experiment providing the name\n",
    "experiment_id = mlflow.create_experiment(name=\"test-experiment\")\n",
    "print(experiment_id)"
   ]
  },
  {
   "cell_type": "code",
   "execution_count": 3,
   "metadata": {},
   "outputs": [
    {
     "name": "stdout",
     "output_type": "stream",
     "text": [
      "Run ID: 4566c1fc7d9d46dd94a726f8362a8524\n"
     ]
    }
   ],
   "source": [
    "with mlflow.start_run(run_name=\"test-run\") as run:\n",
    "    print(f\"Run ID: {run.info.run_id}\")\n",
    "    mlflow.log_param(\"param1\", 1)"
   ]
  },
  {
   "cell_type": "markdown",
   "metadata": {},
   "source": [
    "## Set an experiment as the active experiment\n",
    "\n",
    "We can set an experiment as the active experiment using:\n",
    "\n",
    "```python\n",
    "mlflow.set_experiment(experiment_name: Optional[str] = None, experiment_id: Optional[str] = None) → Experiment\n",
    "```\n",
    "\n",
    "Parameters\n",
    "\n",
    "* **experiment_name** – Case sensitive name of the experiment to be activated.\n",
    "\n",
    "* **experiment_id** – ID of the experiment to be activated. If an experiment with this ID does not exist, an exception is thrown."
   ]
  },
  {
   "cell_type": "code",
   "execution_count": 4,
   "metadata": {},
   "outputs": [],
   "source": [
    "experiment = mlflow.set_experiment(experiment_name=\"test-experiment\")"
   ]
  },
  {
   "cell_type": "code",
   "execution_count": 5,
   "metadata": {},
   "outputs": [
    {
     "name": "stdout",
     "output_type": "stream",
     "text": [
      "Object Type: Experiment \n",
      "\n",
      "experiment_id: \"962178648349282381\"\n",
      "name: \"test-experiment\"\n",
      "artifact_location: \"file:///c:/Users/manue/projects/mlflow_for_ml_dev/mlflow_for_ml_dev/notebooks/experiments/mlruns/962178648349282381\"\n",
      "lifecycle_stage: \"active\"\n",
      "last_update_time: 1726370197024\n",
      "creation_time: 1726370197024\n",
      "\n"
     ]
    }
   ],
   "source": [
    "print(f\"Object Type: {type(experiment).__name__} \\n\")\n",
    "print(experiment.to_proto())"
   ]
  },
  {
   "cell_type": "code",
   "execution_count": 6,
   "metadata": {},
   "outputs": [
    {
     "name": "stdout",
     "output_type": "stream",
     "text": [
      "Run ID: ea113fca822f4a638fb26c55768d4aa5\n"
     ]
    }
   ],
   "source": [
    "with mlflow.start_run(run_name=\"test-run\") as run:\n",
    "    print(f\"Run ID: {run.info.run_id}\")\n",
    "    mlflow.log_param(\"param1\", 1)"
   ]
  },
  {
   "cell_type": "code",
   "execution_count": 7,
   "metadata": {},
   "outputs": [
    {
     "name": "stdout",
     "output_type": "stream",
     "text": [
      "Run ID: 6ecfdcd3dbec4259ae85a54dc47d9652\n"
     ]
    }
   ],
   "source": [
    "# Loggin an artifact\n",
    "with mlflow.start_run(run_name=\"test-run\") as run:\n",
    "    print(f\"Run ID: {run.info.run_id}\")\n",
    "    mlflow.log_text(\"This is a text artifact\", \"artifact.txt\")\n"
   ]
  },
  {
   "cell_type": "markdown",
   "metadata": {},
   "source": [
    "## Creating an experiment using a different artifact location"
   ]
  },
  {
   "cell_type": "code",
   "execution_count": 8,
   "metadata": {},
   "outputs": [
    {
     "name": "stdout",
     "output_type": "stream",
     "text": [
      "378796031032188106\n"
     ]
    }
   ],
   "source": [
    "experiment_id = mlflow.create_experiment(name=\"test-experiment-2\", artifact_location=get_root_project().as_uri())\n",
    "print(experiment_id)"
   ]
  },
  {
   "cell_type": "code",
   "execution_count": 9,
   "metadata": {},
   "outputs": [],
   "source": [
    "experiment = mlflow.set_experiment(experiment_name=\"test-experiment-2\")"
   ]
  },
  {
   "cell_type": "code",
   "execution_count": 10,
   "metadata": {},
   "outputs": [
    {
     "name": "stdout",
     "output_type": "stream",
     "text": [
      "Run ID: bb3e79f219474599b398ef040b2f4f87\n"
     ]
    }
   ],
   "source": [
    "# Loggin an artifact\n",
    "run_ids = []\n",
    "with mlflow.start_run(run_name=\"test-run\") as run:\n",
    "    print(f\"Run ID: {run.info.run_id}\")\n",
    "    mlflow.log_param(\"param1\", 1)\n",
    "    mlflow.log_text(\"This is a text artifact\", \"artifact.txt\")\n",
    "\n",
    "    run_ids.append(run.info.run_id)"
   ]
  },
  {
   "cell_type": "code",
   "execution_count": 11,
   "metadata": {},
   "outputs": [
    {
     "name": "stdout",
     "output_type": "stream",
     "text": [
      "Run ID: eea788bbed5a4c3b8cab1888292bc57f\n"
     ]
    }
   ],
   "source": [
    "# Loggin an artifact\n",
    "with mlflow.start_run(run_name=\"test-run\") as run:\n",
    "    print(f\"Run ID: {run.info.run_id}\")\n",
    "    mlflow.log_text(\"This is a text artifact\", \"artifact.txt\")\n",
    "    mlflow.log_param(\"param1\", 1)\n",
    "\n",
    "    run_ids.append(run.info.run_id)"
   ]
  },
  {
   "cell_type": "markdown",
   "metadata": {},
   "source": [
    "### Clean Up"
   ]
  },
  {
   "cell_type": "code",
   "execution_count": 12,
   "metadata": {},
   "outputs": [
    {
     "name": "stdout",
     "output_type": "stream",
     "text": [
      "mlruns removed\n",
      "Run bb3e79f219474599b398ef040b2f4f87 removed\n",
      "Run eea788bbed5a4c3b8cab1888292bc57f removed\n"
     ]
    }
   ],
   "source": [
    "import shutil\n",
    "\n",
    "shutil.rmtree(\"mlruns\")\n",
    "print(\"mlruns removed\")\n",
    "\n",
    "# remove run ids folders\n",
    "for run_id in run_ids:\n",
    "    shutil.rmtree(get_root_project() / run_id)\n",
    "    print(f\"Run {run_id} removed\")"
   ]
  },
  {
   "cell_type": "markdown",
   "metadata": {},
   "source": [
    "# Specify Tracking URI\n",
    "\n",
    "We can specify the tracking URI Using:\n",
    "\n",
    "```python\n",
    "mlflow.set_tracking_uri(uri: Union[str, pathlib.Path]) → None\n",
    "```\n",
    "* uri\n",
    "    * An empty string, or a local file path, prefixed with file:/. Data is stored locally at the provided file (or ./mlruns if empty).\n",
    "\n",
    "    * An HTTP URI like https://my-tracking-server:5000.\n",
    "\n",
    "    * A Databricks workspace, provided as the string “databricks” or, to use a Databricks CLI profile, “databricks://<profileName>”.\n",
    "    \n",
    "    * A pathlib.Path instance\n"
   ]
  },
  {
   "cell_type": "code",
   "execution_count": 13,
   "metadata": {},
   "outputs": [
    {
     "name": "stdout",
     "output_type": "stream",
     "text": [
      "C:\\Users\\manue\\projects\\mlflow_for_ml_dev\\mlruns\n"
     ]
    }
   ],
   "source": [
    "artifact_location = get_root_project() / \"mlruns\"\n",
    "\n",
    "mlflow.set_tracking_uri(artifact_location.as_uri())\n",
    "print(artifact_location)"
   ]
  },
  {
   "cell_type": "code",
   "execution_count": 14,
   "metadata": {},
   "outputs": [
    {
     "name": "stdout",
     "output_type": "stream",
     "text": [
      "783704071033849895\n"
     ]
    }
   ],
   "source": [
    "# Create experiment\n",
    "experiment_name = \"test-experiment-3\"\n",
    "experiment_id = mlflow.create_experiment(name=experiment_name)\n",
    "print(experiment_id)"
   ]
  },
  {
   "cell_type": "markdown",
   "metadata": {},
   "source": [
    "After creating an experiment is necessary to set it as active experiment, otherwise mlflow would use the Default experiment."
   ]
  },
  {
   "cell_type": "code",
   "execution_count": 15,
   "metadata": {},
   "outputs": [
    {
     "name": "stdout",
     "output_type": "stream",
     "text": [
      "Object Type: Experiment \n",
      "\n",
      "experiment_id: \"783704071033849895\"\n",
      "name: \"test-experiment-3\"\n",
      "artifact_location: \"file:///C:/Users/manue/projects/mlflow_for_ml_dev/mlruns/783704071033849895\"\n",
      "lifecycle_stage: \"active\"\n",
      "last_update_time: 1726370197570\n",
      "creation_time: 1726370197570\n",
      "\n"
     ]
    }
   ],
   "source": [
    "experiment = mlflow.set_experiment(experiment_name=experiment_name)\n",
    "\n",
    "print(f\"Object Type: {type(experiment).__name__} \\n\")\n",
    "print(experiment.to_proto())"
   ]
  },
  {
   "cell_type": "code",
   "execution_count": 16,
   "metadata": {},
   "outputs": [
    {
     "name": "stdout",
     "output_type": "stream",
     "text": [
      "Run ID: 3bbd4ec48e774c19a697b14cac1d8f2f\n"
     ]
    }
   ],
   "source": [
    "with mlflow.start_run(run_name=\"test-run\") as run:\n",
    "    \n",
    "    print(f\"Run ID: {run.info.run_id}\")\n",
    "\n",
    "    mlflow.log_param(\"param1\", 1)\n",
    "    mlflow.log_text(\"This is a text artifact\", \"artifact.txt\")"
   ]
  },
  {
   "cell_type": "markdown",
   "metadata": {},
   "source": [
    "### Error!"
   ]
  },
  {
   "cell_type": "code",
   "execution_count": 17,
   "metadata": {},
   "outputs": [
    {
     "ename": "MlflowException",
     "evalue": "Experiment 'test-experiment-3' already exists.",
     "output_type": "error",
     "traceback": [
      "\u001b[1;31m---------------------------------------------------------------------------\u001b[0m",
      "\u001b[1;31mMlflowException\u001b[0m                           Traceback (most recent call last)",
      "Cell \u001b[1;32mIn[17], line 1\u001b[0m\n\u001b[1;32m----> 1\u001b[0m \u001b[43mmlflow\u001b[49m\u001b[38;5;241;43m.\u001b[39;49m\u001b[43mcreate_experiment\u001b[49m\u001b[43m(\u001b[49m\u001b[43mname\u001b[49m\u001b[38;5;241;43m=\u001b[39;49m\u001b[43mexperiment_name\u001b[49m\u001b[43m)\u001b[49m\n",
      "File \u001b[1;32mc:\\Users\\manue\\projects\\mlflow_for_ml_dev\\.venv\\Lib\\site-packages\\mlflow\\tracking\\fluent.py:1766\u001b[0m, in \u001b[0;36mcreate_experiment\u001b[1;34m(name, artifact_location, tags)\u001b[0m\n\u001b[0;32m   1718\u001b[0m \u001b[38;5;28;01mdef\u001b[39;00m \u001b[38;5;21mcreate_experiment\u001b[39m(\n\u001b[0;32m   1719\u001b[0m     name: \u001b[38;5;28mstr\u001b[39m,\n\u001b[0;32m   1720\u001b[0m     artifact_location: Optional[\u001b[38;5;28mstr\u001b[39m] \u001b[38;5;241m=\u001b[39m \u001b[38;5;28;01mNone\u001b[39;00m,\n\u001b[0;32m   1721\u001b[0m     tags: Optional[Dict[\u001b[38;5;28mstr\u001b[39m, Any]] \u001b[38;5;241m=\u001b[39m \u001b[38;5;28;01mNone\u001b[39;00m,\n\u001b[0;32m   1722\u001b[0m ) \u001b[38;5;241m-\u001b[39m\u001b[38;5;241m>\u001b[39m \u001b[38;5;28mstr\u001b[39m:\n\u001b[0;32m   1723\u001b[0m \u001b[38;5;250m    \u001b[39m\u001b[38;5;124;03m\"\"\"\u001b[39;00m\n\u001b[0;32m   1724\u001b[0m \u001b[38;5;124;03m    Create an experiment.\u001b[39;00m\n\u001b[0;32m   1725\u001b[0m \n\u001b[1;32m   (...)\u001b[0m\n\u001b[0;32m   1764\u001b[0m \u001b[38;5;124;03m        Creation timestamp: 1662004217511\u001b[39;00m\n\u001b[0;32m   1765\u001b[0m \u001b[38;5;124;03m    \"\"\"\u001b[39;00m\n\u001b[1;32m-> 1766\u001b[0m     \u001b[38;5;28;01mreturn\u001b[39;00m \u001b[43mMlflowClient\u001b[49m\u001b[43m(\u001b[49m\u001b[43m)\u001b[49m\u001b[38;5;241;43m.\u001b[39;49m\u001b[43mcreate_experiment\u001b[49m\u001b[43m(\u001b[49m\u001b[43mname\u001b[49m\u001b[43m,\u001b[49m\u001b[43m \u001b[49m\u001b[43martifact_location\u001b[49m\u001b[43m,\u001b[49m\u001b[43m \u001b[49m\u001b[43mtags\u001b[49m\u001b[43m)\u001b[49m\n",
      "File \u001b[1;32mc:\\Users\\manue\\projects\\mlflow_for_ml_dev\\.venv\\Lib\\site-packages\\mlflow\\tracking\\client.py:1294\u001b[0m, in \u001b[0;36mMlflowClient.create_experiment\u001b[1;34m(self, name, artifact_location, tags)\u001b[0m\n\u001b[0;32m   1242\u001b[0m \u001b[38;5;28;01mdef\u001b[39;00m \u001b[38;5;21mcreate_experiment\u001b[39m(\n\u001b[0;32m   1243\u001b[0m     \u001b[38;5;28mself\u001b[39m,\n\u001b[0;32m   1244\u001b[0m     name: \u001b[38;5;28mstr\u001b[39m,\n\u001b[0;32m   1245\u001b[0m     artifact_location: Optional[\u001b[38;5;28mstr\u001b[39m] \u001b[38;5;241m=\u001b[39m \u001b[38;5;28;01mNone\u001b[39;00m,\n\u001b[0;32m   1246\u001b[0m     tags: Optional[Dict[\u001b[38;5;28mstr\u001b[39m, Any]] \u001b[38;5;241m=\u001b[39m \u001b[38;5;28;01mNone\u001b[39;00m,\n\u001b[0;32m   1247\u001b[0m ) \u001b[38;5;241m-\u001b[39m\u001b[38;5;241m>\u001b[39m \u001b[38;5;28mstr\u001b[39m:\n\u001b[0;32m   1248\u001b[0m \u001b[38;5;250m    \u001b[39m\u001b[38;5;124;03m\"\"\"Create an experiment.\u001b[39;00m\n\u001b[0;32m   1249\u001b[0m \n\u001b[0;32m   1250\u001b[0m \u001b[38;5;124;03m    Args:\u001b[39;00m\n\u001b[1;32m   (...)\u001b[0m\n\u001b[0;32m   1292\u001b[0m \n\u001b[0;32m   1293\u001b[0m \u001b[38;5;124;03m    \"\"\"\u001b[39;00m\n\u001b[1;32m-> 1294\u001b[0m     \u001b[38;5;28;01mreturn\u001b[39;00m \u001b[38;5;28;43mself\u001b[39;49m\u001b[38;5;241;43m.\u001b[39;49m\u001b[43m_tracking_client\u001b[49m\u001b[38;5;241;43m.\u001b[39;49m\u001b[43mcreate_experiment\u001b[49m\u001b[43m(\u001b[49m\u001b[43mname\u001b[49m\u001b[43m,\u001b[49m\u001b[43m \u001b[49m\u001b[43martifact_location\u001b[49m\u001b[43m,\u001b[49m\u001b[43m \u001b[49m\u001b[43mtags\u001b[49m\u001b[43m)\u001b[49m\n",
      "File \u001b[1;32mc:\\Users\\manue\\projects\\mlflow_for_ml_dev\\.venv\\Lib\\site-packages\\mlflow\\tracking\\_tracking_service\\client.py:501\u001b[0m, in \u001b[0;36mTrackingServiceClient.create_experiment\u001b[1;34m(self, name, artifact_location, tags)\u001b[0m\n\u001b[0;32m    487\u001b[0m \u001b[38;5;250m\u001b[39m\u001b[38;5;124;03m\"\"\"Create an experiment.\u001b[39;00m\n\u001b[0;32m    488\u001b[0m \n\u001b[0;32m    489\u001b[0m \u001b[38;5;124;03mArgs:\u001b[39;00m\n\u001b[1;32m   (...)\u001b[0m\n\u001b[0;32m    498\u001b[0m \n\u001b[0;32m    499\u001b[0m \u001b[38;5;124;03m\"\"\"\u001b[39;00m\n\u001b[0;32m    500\u001b[0m _validate_experiment_artifact_location(artifact_location)\n\u001b[1;32m--> 501\u001b[0m \u001b[38;5;28;01mreturn\u001b[39;00m \u001b[38;5;28;43mself\u001b[39;49m\u001b[38;5;241;43m.\u001b[39;49m\u001b[43mstore\u001b[49m\u001b[38;5;241;43m.\u001b[39;49m\u001b[43mcreate_experiment\u001b[49m\u001b[43m(\u001b[49m\n\u001b[0;32m    502\u001b[0m \u001b[43m    \u001b[49m\u001b[43mname\u001b[49m\u001b[38;5;241;43m=\u001b[39;49m\u001b[43mname\u001b[49m\u001b[43m,\u001b[49m\n\u001b[0;32m    503\u001b[0m \u001b[43m    \u001b[49m\u001b[43martifact_location\u001b[49m\u001b[38;5;241;43m=\u001b[39;49m\u001b[43martifact_location\u001b[49m\u001b[43m,\u001b[49m\n\u001b[0;32m    504\u001b[0m \u001b[43m    \u001b[49m\u001b[43mtags\u001b[49m\u001b[38;5;241;43m=\u001b[39;49m\u001b[43m[\u001b[49m\u001b[43mExperimentTag\u001b[49m\u001b[43m(\u001b[49m\u001b[43mkey\u001b[49m\u001b[43m,\u001b[49m\u001b[43m \u001b[49m\u001b[43mvalue\u001b[49m\u001b[43m)\u001b[49m\u001b[43m \u001b[49m\u001b[38;5;28;43;01mfor\u001b[39;49;00m\u001b[43m \u001b[49m\u001b[43m(\u001b[49m\u001b[43mkey\u001b[49m\u001b[43m,\u001b[49m\u001b[43m \u001b[49m\u001b[43mvalue\u001b[49m\u001b[43m)\u001b[49m\u001b[43m \u001b[49m\u001b[38;5;129;43;01min\u001b[39;49;00m\u001b[43m \u001b[49m\u001b[43mtags\u001b[49m\u001b[38;5;241;43m.\u001b[39;49m\u001b[43mitems\u001b[49m\u001b[43m(\u001b[49m\u001b[43m)\u001b[49m\u001b[43m]\u001b[49m\u001b[43m \u001b[49m\u001b[38;5;28;43;01mif\u001b[39;49;00m\u001b[43m \u001b[49m\u001b[43mtags\u001b[49m\u001b[43m \u001b[49m\u001b[38;5;28;43;01melse\u001b[39;49;00m\u001b[43m \u001b[49m\u001b[43m[\u001b[49m\u001b[43m]\u001b[49m\u001b[43m,\u001b[49m\n\u001b[0;32m    505\u001b[0m \u001b[43m\u001b[49m\u001b[43m)\u001b[49m\n",
      "File \u001b[1;32mc:\\Users\\manue\\projects\\mlflow_for_ml_dev\\.venv\\Lib\\site-packages\\mlflow\\store\\tracking\\file_store.py:394\u001b[0m, in \u001b[0;36mFileStore.create_experiment\u001b[1;34m(self, name, artifact_location, tags)\u001b[0m\n\u001b[0;32m    392\u001b[0m \u001b[38;5;28mself\u001b[39m\u001b[38;5;241m.\u001b[39m_check_root_dir()\n\u001b[0;32m    393\u001b[0m _validate_experiment_name(name)\n\u001b[1;32m--> 394\u001b[0m \u001b[38;5;28;43mself\u001b[39;49m\u001b[38;5;241;43m.\u001b[39;49m\u001b[43m_validate_experiment_does_not_exist\u001b[49m\u001b[43m(\u001b[49m\u001b[43mname\u001b[49m\u001b[43m)\u001b[49m\n\u001b[0;32m    395\u001b[0m experiment_id \u001b[38;5;241m=\u001b[39m _generate_unique_integer_id()\n\u001b[0;32m    396\u001b[0m \u001b[38;5;28;01mreturn\u001b[39;00m \u001b[38;5;28mself\u001b[39m\u001b[38;5;241m.\u001b[39m_create_experiment_with_id(name, \u001b[38;5;28mstr\u001b[39m(experiment_id), artifact_location, tags)\n",
      "File \u001b[1;32mc:\\Users\\manue\\projects\\mlflow_for_ml_dev\\.venv\\Lib\\site-packages\\mlflow\\store\\tracking\\file_store.py:386\u001b[0m, in \u001b[0;36mFileStore._validate_experiment_does_not_exist\u001b[1;34m(self, name)\u001b[0m\n\u001b[0;32m    378\u001b[0m     \u001b[38;5;28;01mraise\u001b[39;00m MlflowException(\n\u001b[0;32m    379\u001b[0m         \u001b[38;5;124m\"\u001b[39m\u001b[38;5;124mExperiment \u001b[39m\u001b[38;5;124m'\u001b[39m\u001b[38;5;132;01m%s\u001b[39;00m\u001b[38;5;124m'\u001b[39m\u001b[38;5;124m already exists in deleted state. \u001b[39m\u001b[38;5;124m\"\u001b[39m\n\u001b[0;32m    380\u001b[0m         \u001b[38;5;124m\"\u001b[39m\u001b[38;5;124mYou can restore the experiment, or permanently delete the experiment \u001b[39m\u001b[38;5;124m\"\u001b[39m\n\u001b[1;32m   (...)\u001b[0m\n\u001b[0;32m    383\u001b[0m         databricks_pb2\u001b[38;5;241m.\u001b[39mRESOURCE_ALREADY_EXISTS,\n\u001b[0;32m    384\u001b[0m     )\n\u001b[0;32m    385\u001b[0m \u001b[38;5;28;01melse\u001b[39;00m:\n\u001b[1;32m--> 386\u001b[0m     \u001b[38;5;28;01mraise\u001b[39;00m MlflowException(\n\u001b[0;32m    387\u001b[0m         \u001b[38;5;124mf\u001b[39m\u001b[38;5;124m\"\u001b[39m\u001b[38;5;124mExperiment \u001b[39m\u001b[38;5;124m'\u001b[39m\u001b[38;5;132;01m{\u001b[39;00mexperiment\u001b[38;5;241m.\u001b[39mname\u001b[38;5;132;01m}\u001b[39;00m\u001b[38;5;124m'\u001b[39m\u001b[38;5;124m already exists.\u001b[39m\u001b[38;5;124m\"\u001b[39m,\n\u001b[0;32m    388\u001b[0m         databricks_pb2\u001b[38;5;241m.\u001b[39mRESOURCE_ALREADY_EXISTS,\n\u001b[0;32m    389\u001b[0m     )\n",
      "\u001b[1;31mMlflowException\u001b[0m: Experiment 'test-experiment-3' already exists."
     ]
    }
   ],
   "source": [
    "mlflow.create_experiment(name=experiment_name)"
   ]
  },
  {
   "cell_type": "markdown",
   "metadata": {},
   "source": [
    "# Two Options\n",
    "\n",
    "## Capture the exception"
   ]
  },
  {
   "cell_type": "code",
   "execution_count": 20,
   "metadata": {},
   "outputs": [
    {
     "name": "stdout",
     "output_type": "stream",
     "text": [
      "Error: Experiment 'test-experiment-3' already exists.\n"
     ]
    }
   ],
   "source": [
    "try:\n",
    "    experiment = mlflow.create_experiment(name=experiment_name)\n",
    "except Exception as e:\n",
    "    print(f\"Error: {e}\")"
   ]
  },
  {
   "cell_type": "markdown",
   "metadata": {},
   "source": [
    "## Use `mlflow.set_experiment`"
   ]
  },
  {
   "cell_type": "code",
   "execution_count": 21,
   "metadata": {},
   "outputs": [
    {
     "name": "stderr",
     "output_type": "stream",
     "text": [
      "2024/09/14 22:17:01 INFO mlflow.tracking.fluent: Experiment with name 'main-concepts' does not exist. Creating a new experiment.\n"
     ]
    },
    {
     "name": "stdout",
     "output_type": "stream",
     "text": [
      "Object Type: Experiment \n",
      "\n",
      "experiment_id: \"830047635022214398\"\n",
      "name: \"main-concepts\"\n",
      "artifact_location: \"file:///C:/Users/manue/projects/mlflow_for_ml_dev/mlruns/830047635022214398\"\n",
      "lifecycle_stage: \"active\"\n",
      "last_update_time: 1726370221634\n",
      "creation_time: 1726370221634\n",
      "\n"
     ]
    }
   ],
   "source": [
    "# Since the experiment already exists, we can set it as the active experiment\n",
    "experiment = mlflow.set_experiment(experiment_name = experiment_name)\n",
    "\n",
    "# we can also create the experiment if it does not exist\n",
    "new_experiment_name = \"main-concepts\"\n",
    "experiment = mlflow.set_experiment(experiment_name = new_experiment_name)\n",
    "\n",
    "print(f\"Object Type: {type(experiment).__name__} \\n\")\n",
    "print(experiment.to_proto())"
   ]
  },
  {
   "cell_type": "code",
   "execution_count": 22,
   "metadata": {},
   "outputs": [
    {
     "name": "stdout",
     "output_type": "stream",
     "text": [
      "Run ID: 47c3f3bdb5e442eeb103c876ec3c2d95\n"
     ]
    }
   ],
   "source": [
    "# adding some data to the experiment\n",
    "with mlflow.start_run(run_name=\"test-run\") as run:\n",
    "    \n",
    "    print(f\"Run ID: {run.info.run_id}\")\n",
    "\n",
    "    mlflow.log_param(\"param1\", 1)\n",
    "    mlflow.log_text(\"This is a text artifact\", \"artifact.txt\")"
   ]
  },
  {
   "cell_type": "code",
   "execution_count": 23,
   "metadata": {},
   "outputs": [],
   "source": [
    "from mlflow_for_ml_dev.experiments.exp_utils import get_or_create_experiment"
   ]
  },
  {
   "cell_type": "code",
   "execution_count": 24,
   "metadata": {},
   "outputs": [
    {
     "name": "stdout",
     "output_type": "stream",
     "text": [
      "Object Type: Experiment \n",
      "\n",
      "experiment_id: \"830047635022214398\"\n",
      "name: \"main-concepts\"\n",
      "artifact_location: \"file:///C:/Users/manue/projects/mlflow_for_ml_dev/mlruns/830047635022214398\"\n",
      "lifecycle_stage: \"active\"\n",
      "last_update_time: 1726370221634\n",
      "creation_time: 1726370221634\n",
      "\n"
     ]
    }
   ],
   "source": [
    "experiment = get_or_create_experiment(experiment_name = new_experiment_name)\n",
    "\n",
    "print(f\"Object Type: {type(experiment).__name__} \\n\")\n",
    "print(experiment.to_proto())"
   ]
  },
  {
   "cell_type": "markdown",
   "metadata": {},
   "source": [
    "## Adding tags"
   ]
  },
  {
   "cell_type": "code",
   "execution_count": 25,
   "metadata": {},
   "outputs": [],
   "source": [
    "experiment_name = \"main-concepts-02\"\n",
    "experiment = get_or_create_experiment(\n",
    "    experiment_name=experiment_name,\n",
    "    tags={\"topic\":\"experiment_management\", \"project_name\":\"UNKNOWN\"}\n",
    ")"
   ]
  },
  {
   "cell_type": "code",
   "execution_count": 26,
   "metadata": {},
   "outputs": [
    {
     "data": {
      "text/plain": [
       "{'project_name': 'UNKNOWN', 'topic': 'experiment_management'}"
      ]
     },
     "execution_count": 26,
     "metadata": {},
     "output_type": "execute_result"
    }
   ],
   "source": [
    "# get the experiment tags\n",
    "experiment.tags"
   ]
  },
  {
   "cell_type": "markdown",
   "metadata": {},
   "source": [
    "## Adding a description"
   ]
  },
  {
   "cell_type": "code",
   "execution_count": 27,
   "metadata": {},
   "outputs": [],
   "source": [
    "experiment_name = \"main-concepts-03\"\n",
    "experiment = get_or_create_experiment(\n",
    "    experiment_name=experiment_name,\n",
    "    tags={\n",
    "        \"topic\":\"experiment_management\",\n",
    "        \"project_name\":\"UNKNOWN\",\n",
    "        \"mlflow.note.content\":\"This is a test experiment\"})"
   ]
  },
  {
   "cell_type": "code",
   "execution_count": 28,
   "metadata": {},
   "outputs": [
    {
     "data": {
      "text/plain": [
       "{'mlflow.note.content': 'This is a test experiment',\n",
       " 'project_name': 'UNKNOWN',\n",
       " 'topic': 'experiment_management'}"
      ]
     },
     "execution_count": 28,
     "metadata": {},
     "output_type": "execute_result"
    }
   ],
   "source": [
    "# get the experiment tags\n",
    "experiment.tags"
   ]
  },
  {
   "cell_type": "markdown",
   "metadata": {},
   "source": [
    "## Update Tags"
   ]
  },
  {
   "cell_type": "code",
   "execution_count": 29,
   "metadata": {},
   "outputs": [
    {
     "data": {
      "text/plain": [
       "{}"
      ]
     },
     "execution_count": 29,
     "metadata": {},
     "output_type": "execute_result"
    }
   ],
   "source": [
    "experiment_name = \"main-concepts-04\"\n",
    "experiment = get_or_create_experiment(experiment_name)\n",
    "# experiment tags\n",
    "experiment.tags"
   ]
  },
  {
   "cell_type": "code",
   "execution_count": 30,
   "metadata": {},
   "outputs": [],
   "source": [
    "tags = {\n",
    "    \"tag1\": \"value1\",\n",
    "    \"tag2\": \"value2\"\n",
    "}\n",
    "mlflow.set_experiment_tags(tags=tags)\n"
   ]
  },
  {
   "cell_type": "code",
   "execution_count": 31,
   "metadata": {},
   "outputs": [
    {
     "data": {
      "text/plain": [
       "{'tag1': 'value1', 'tag2': 'value2'}"
      ]
     },
     "execution_count": 31,
     "metadata": {},
     "output_type": "execute_result"
    }
   ],
   "source": [
    "# get the updated experiment object\n",
    "experiment = get_or_create_experiment(experiment_name)\n",
    "\n",
    "# get the experiment tags\n",
    "experiment.tags"
   ]
  },
  {
   "cell_type": "code",
   "execution_count": 32,
   "metadata": {},
   "outputs": [],
   "source": [
    "# Update Value of tag1\n",
    "mlflow.set_experiment_tag(key=\"tag1\", value=\"new_value1\")\n",
    "\n",
    "# get the updated experiment object\n",
    "experiment = get_or_create_experiment(experiment_name)"
   ]
  },
  {
   "cell_type": "code",
   "execution_count": 33,
   "metadata": {},
   "outputs": [
    {
     "data": {
      "text/plain": [
       "{'tag1': 'new_value1', 'tag2': 'value2'}"
      ]
     },
     "execution_count": 33,
     "metadata": {},
     "output_type": "execute_result"
    }
   ],
   "source": [
    "# get the experiment tags\n",
    "experiment.tags"
   ]
  },
  {
   "cell_type": "markdown",
   "metadata": {},
   "source": [
    "## Using the client to set a tag"
   ]
  },
  {
   "cell_type": "code",
   "execution_count": 34,
   "metadata": {},
   "outputs": [],
   "source": [
    "client = mlflow.MlflowClient()"
   ]
  },
  {
   "cell_type": "code",
   "execution_count": 35,
   "metadata": {},
   "outputs": [
    {
     "data": {
      "text/plain": [
       "'919778303368787007'"
      ]
     },
     "execution_count": 35,
     "metadata": {},
     "output_type": "execute_result"
    }
   ],
   "source": [
    "experiment.experiment_id"
   ]
  },
  {
   "cell_type": "code",
   "execution_count": 36,
   "metadata": {},
   "outputs": [],
   "source": [
    "client.set_experiment_tag(experiment_id = experiment.experiment_id, key=\"tag3\", value=\"value3\")"
   ]
  },
  {
   "cell_type": "code",
   "execution_count": 37,
   "metadata": {},
   "outputs": [
    {
     "data": {
      "text/plain": [
       "{'tag1': 'new_value1', 'tag2': 'value2', 'tag3': 'value3'}"
      ]
     },
     "execution_count": 37,
     "metadata": {},
     "output_type": "execute_result"
    }
   ],
   "source": [
    "experiment = get_or_create_experiment(experiment_name)\n",
    "\n",
    "# get the experiment tags\n",
    "experiment.tags"
   ]
  },
  {
   "cell_type": "markdown",
   "metadata": {},
   "source": [
    "## Rename Experiment"
   ]
  },
  {
   "cell_type": "code",
   "execution_count": 38,
   "metadata": {},
   "outputs": [],
   "source": [
    "new_name = \"main-concepts-04-renamed\"\n",
    "client.rename_experiment(experiment_id = experiment.experiment_id, new_name=new_name)"
   ]
  },
  {
   "cell_type": "code",
   "execution_count": 39,
   "metadata": {},
   "outputs": [
    {
     "data": {
      "text/plain": [
       "'main-concepts-04-renamed'"
      ]
     },
     "execution_count": 39,
     "metadata": {},
     "output_type": "execute_result"
    }
   ],
   "source": [
    "experiment = get_or_create_experiment(new_name)\n",
    "\n",
    "experiment.name"
   ]
  },
  {
   "cell_type": "markdown",
   "metadata": {},
   "source": [
    "## Clean Up"
   ]
  },
  {
   "cell_type": "code",
   "execution_count": 40,
   "metadata": {},
   "outputs": [],
   "source": [
    "main_concepts_experiments = mlflow.search_experiments(filter_string=\"name LIKE 'main-concepts%'\")\n",
    "test_experiments = mlflow.search_experiments(filter_string=\"name LIKE 'test-experiment%'\")\n",
    "experiments = main_concepts_experiments + test_experiments"
   ]
  },
  {
   "cell_type": "code",
   "execution_count": 41,
   "metadata": {},
   "outputs": [
    {
     "name": "stdout",
     "output_type": "stream",
     "text": [
      "919778303368787007 main-concepts-04-renamed {'tag1': 'new_value1', 'tag2': 'value2', 'tag3': 'value3'}\n",
      "515914290847591603 main-concepts-03 {'mlflow.note.content': 'This is a test experiment', 'project_name': 'UNKNOWN', 'topic': 'experiment_management'}\n",
      "597953269128446408 main-concepts-02 {'project_name': 'UNKNOWN', 'topic': 'experiment_management'}\n",
      "830047635022214398 main-concepts {}\n",
      "783704071033849895 test-experiment-3 {}\n"
     ]
    }
   ],
   "source": [
    "for exp in experiments:\n",
    "    print(exp.experiment_id, exp.name, exp.tags)"
   ]
  },
  {
   "cell_type": "code",
   "execution_count": 42,
   "metadata": {},
   "outputs": [
    {
     "name": "stdout",
     "output_type": "stream",
     "text": [
      "Deleting: main-concepts-04-renamed\n",
      "Deleting: main-concepts-03\n",
      "Deleting: main-concepts-02\n",
      "Deleting: main-concepts\n",
      "Deleting: test-experiment-3\n"
     ]
    }
   ],
   "source": [
    "for experiment in experiments:\n",
    "    print(f\"Deleting: {experiment.name}\")\n",
    "    mlflow.delete_experiment(experiment.experiment_id)"
   ]
  },
  {
   "cell_type": "code",
   "execution_count": null,
   "metadata": {},
   "outputs": [],
   "source": []
  }
 ],
 "metadata": {
  "kernelspec": {
   "display_name": ".venv",
   "language": "python",
   "name": "python3"
  },
  "language_info": {
   "codemirror_mode": {
    "name": "ipython",
    "version": 3
   },
   "file_extension": ".py",
   "mimetype": "text/x-python",
   "name": "python",
   "nbconvert_exporter": "python",
   "pygments_lexer": "ipython3",
   "version": "3.11.8"
  }
 },
 "nbformat": 4,
 "nbformat_minor": 2
}
