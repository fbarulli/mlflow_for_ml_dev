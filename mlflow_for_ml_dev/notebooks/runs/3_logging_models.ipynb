{
 "cells": [
  {
   "attachments": {
    "image.png": {
     "image/png": "[encoded data removed]"
    }
   },
   "cell_type": "markdown",
   "metadata": {},
   "source": [
    "![image.png](attachment:image.png)\n",
    "# MLflow Models:\n",
    "\n",
    "An MLflow Model is a standard format for packaging machine learning models that can be used in a variety of downstream tools. It lets you save a model in different “flavors” that can be understood by different downstream tools.\n",
    "\n",
    "## What is a MLflow Flavor?\n",
    "\n",
    "Flavors are the key concept that makes MLflow Models powerful: they are a convention that deployment tools can use to understand the model, which makes it possible to write tools that work with models from any ML library without having to integrate each tool with each library. \n",
    "\n",
    "## Built-In Model Flavors\n",
    "\n",
    "* Python Function (python_function)\n",
    "\n",
    "* R Function (crate)\n",
    "\n",
    "* H2O (h2o)\n",
    "\n",
    "* Keras (keras)\n",
    "\n",
    "* MLeap (mleap)\n",
    "\n",
    "* PyTorch (pytorch)\n",
    "\n",
    "* Scikit-learn (sklearn)\n",
    "\n",
    "* Spark MLlib (spark)\n",
    "\n",
    "* TensorFlow (tensorflow)\n",
    "\n",
    "* ONNX (onnx)\n",
    "\n",
    "* MXNet Gluon (gluon)\n",
    "\n",
    "* XGBoost (xgboost)\n",
    "\n",
    "* LightGBM (lightgbm)\n",
    "\n",
    "* CatBoost (catboost)\n",
    "\n",
    "* Spacy(spaCy)\n",
    "\n",
    "* Fastai(fastai)\n",
    "\n",
    "* Statsmodels (statsmodels)\n",
    "\n",
    "* Prophet (prophet)\n",
    "\n",
    "* Pmdarima (pmdarima)\n",
    "\n",
    "* OpenAI (openai) (Experimental)\n",
    "\n",
    "* LangChain (langchain) (Experimental)\n",
    "\n",
    "* John Snow Labs (johnsnowlabs) (Experimental)\n",
    "\n",
    "* Diviner (diviner)\n",
    "\n",
    "* Transformers (transformers) (Experimental)\n",
    "\n",
    "* SentenceTransformers (sentence_transformers) (Experimental)\n",
    "\n",
    "* Promptflow (promptflow) (Experimental)\n",
    "\n",
    "\n",
    "\n",
    "## MLmodel file\n",
    "\n",
    "```python\n",
    "# Directory written by mlflow.sklearn.save_model(model, \"my_model\")\n",
    "my_model/\n",
    "├── MLmodel\n",
    "├── model.pkl\n",
    "├── conda.yaml\n",
    "├── python_env.yaml\n",
    "└── requirements.txt\n",
    "```\n",
    "\n",
    "## Sklearn Flavor\n",
    "\n",
    "The mlflow.sklearn module provides an API for logging and loading scikit-learn models. This module exports scikit-learn models with the following flavors:"
   ]
  },
  {
   "cell_type": "code",
   "execution_count": 1,
   "metadata": {},
   "outputs": [],
   "source": [
    "# Create experiment\n",
    "import mlflow \n",
    "from mlflow_for_ml_dev.experiments.exp_utils import get_or_create_experiment\n",
    "\n",
    "name = \"mlflow-flavors\"\n",
    "tags={\n",
    "        \"project_name\": \"logging_models\",\n",
    "        \"topic\":\"run_management\",\n",
    "        \"mlflow.note.content\": \"This experiment is used to log sklearn models\"\n",
    "    }\n",
    "\n",
    "experiment = get_or_create_experiment(experiment_name=name, tags=tags)"
   ]
  },
  {
   "cell_type": "code",
   "execution_count": null,
   "metadata": {},
   "outputs": [],
   "source": [
    "from sklearn.ensemble import RandomForestClassifier\n",
    "\n",
    "rfc = RandomForestClassifier(n_estimators=10)\n",
    "\n",
    "with mlflow.start_run(run_name=\"logging-random-forest\") as run:\n",
    "    mlflow.sklearn.log_model(sk_model = rfc, artifact_path = \"random-forest-model\")"
   ]
  },
  {
   "cell_type": "markdown",
   "metadata": {},
   "source": [
    "## Model With Signature"
   ]
  },
  {
   "cell_type": "code",
   "execution_count": 2,
   "metadata": {},
   "outputs": [],
   "source": [
    "from sklearn.ensemble import RandomForestClassifier\n",
    "from sklearn.datasets import load_iris\n",
    "from mlflow.models.signature import infer_signature\n",
    "import mlflow "
   ]
  },
  {
   "cell_type": "code",
   "execution_count": null,
   "metadata": {},
   "outputs": [],
   "source": [
    "# load the iris dataset\n",
    "iris = load_iris(as_frame=True)\n",
    "x = iris.data\n",
    "y = iris.target\n",
    "\n",
    "# infer signature\n",
    "signature = infer_signature(model_input=x, model_output=y)"
   ]
  },
  {
   "cell_type": "code",
   "execution_count": null,
   "metadata": {},
   "outputs": [],
   "source": [
    "for input in signature.inputs:\n",
    "    print(input)"
   ]
  },
  {
   "cell_type": "code",
   "execution_count": null,
   "metadata": {},
   "outputs": [],
   "source": [
    "for input in signature.outputs:\n",
    "    print(input)"
   ]
  },
  {
   "cell_type": "code",
   "execution_count": 8,
   "metadata": {},
   "outputs": [],
   "source": [
    "rfc = RandomForestClassifier()\n",
    "\n",
    "rfc.fit(x, y)\n",
    "\n",
    "with mlflow.start_run(run_name=\"logging_with_signature\", experiment_id=experiment.experiment_id):\n",
    "    # Log the model\n",
    "    mlflow.sklearn.log_model(sk_model=rfc, artifact_path = rfc.__class__.__name__, signature=signature)"
   ]
  },
  {
   "cell_type": "markdown",
   "metadata": {},
   "source": [
    "## Logging with input example"
   ]
  },
  {
   "cell_type": "code",
   "execution_count": null,
   "metadata": {},
   "outputs": [],
   "source": [
    "# get a sample input\n",
    "input_example = x.iloc[0:10]\n",
    "print(input_example)"
   ]
  },
  {
   "cell_type": "code",
   "execution_count": null,
   "metadata": {},
   "outputs": [],
   "source": [
    "rfc = RandomForestClassifier()\n",
    "\n",
    "with mlflow.start_run(run_name=\"logging_with_input_example\", experiment_id=experiment.experiment_id): \n",
    "    # Log the model\n",
    "    mlflow.sklearn.log_model(\n",
    "        sk_model = rfc,\n",
    "        artifact_path = rfc.__class__.__name__,\n",
    "        signature = signature,\n",
    "        input_example = input_example\n",
    "    )"
   ]
  }
 ],
 "metadata": {
  "kernelspec": {
   "display_name": ".venv",
   "language": "python",
   "name": "python3"
  },
  "language_info": {
   "codemirror_mode": {
    "name": "ipython",
    "version": 3
   },
   "file_extension": ".py",
   "mimetype": "text/x-python",
   "name": "python",
   "nbconvert_exporter": "python",
   "pygments_lexer": "ipython3",
   "version": "3.11.8"
  }
 },
 "nbformat": 4,
 "nbformat_minor": 2
}
