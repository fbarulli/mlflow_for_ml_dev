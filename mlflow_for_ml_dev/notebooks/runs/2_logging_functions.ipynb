{
 "cells": [
  {
   "cell_type": "markdown",
   "metadata": {},
   "source": [
    "# Logging Metrics"
   ]
  },
  {
   "cell_type": "code",
   "execution_count": 1,
   "metadata": {},
   "outputs": [],
   "source": [
    "from mlflow_for_ml_dev.experiments.exp_utils import get_or_create_experiment\n",
    "import matplotlib.pyplot as plt\n",
    "import mlflow"
   ]
  },
  {
   "cell_type": "code",
   "execution_count": 2,
   "metadata": {},
   "outputs": [
    {
     "name": "stdout",
     "output_type": "stream",
     "text": [
      "Experiment with name logging_function and ID 334926439439515466 created.\n"
     ]
    }
   ],
   "source": [
    "# creating experiments\n",
    "experiment_name = \"logging_function\"\n",
    "tags = {\n",
    "    \"project_name\":\"UNDEFINED\",\n",
    "    \"topic\":\"run_management\",\n",
    "    \"mlflow.note.content\":\"This experiment is used to test the logging function.\"\n",
    "}\n",
    "\n",
    "experiment = get_or_create_experiment(experiment_name, tags)"
   ]
  },
  {
   "cell_type": "code",
   "execution_count": 5,
   "metadata": {},
   "outputs": [
    {
     "name": "stdout",
     "output_type": "stream",
     "text": [
      "Run ID: ef97c5483b874a018c834926145cbca6\n"
     ]
    }
   ],
   "source": [
    "# logging metrics\n",
    "with mlflow.start_run(run_name=\"logging_metrics\", experiment_id=experiment.experiment_id) as run:\n",
    "    print(\"Run ID:\", run.info.run_id)\n",
    "\n",
    "    # logging a single metric\n",
    "    mlflow.log_metric(\"m1\", 2.0)\n",
    "\n",
    "    # logging multiple metrics as a dictionary\n",
    "    mlflow.log_metrics({\"m2\": 3.0, \"m3\": 4.0})"
   ]
  },
  {
   "cell_type": "markdown",
   "metadata": {},
   "source": [
    "### Using `step` parameter when logging metrics"
   ]
  },
  {
   "cell_type": "code",
   "execution_count": 6,
   "metadata": {},
   "outputs": [],
   "source": [
    "# Training a deep learning model \n",
    "import random\n",
    "epochs = 100\n",
    "batch_size = 32\n",
    "# simulate training loop\n",
    "# in this case we are providing the run_id and experiment_id\n",
    "# this is useful when we want to log metrics to an existing run\n",
    "with mlflow.start_run(run_id=run.info.run_id, experiment_id=experiment.experiment_id) as run:\n",
    "    \n",
    "    # simulate training loop\n",
    "    for epoch in range(1,epochs+1):\n",
    "        acc = 1 - 2 ** -epoch - random.random() / epoch\n",
    "        loss = 2 ** -epoch + random.random() / epoch\n",
    "\n",
    "        # In this case every step represents an epoch\n",
    "        # since we have defined 100 epochs, we will have 100 steps\n",
    "        mlflow.log_metric(\"accuracy\", acc, step=epoch)\n",
    "        mlflow.log_metric(\"loss\",loss, step = epoch)\n",
    "\n",
    "    # logging a single metric\n",
    "    mlflow.log_metric(\"m1\", 4.0, step=1)\n",
    "\n",
    "    # logging multiple metrics\n",
    "    mlflow.log_metrics({\"m2\": 4.0, \"m3\": 7.0}, step=1)"
   ]
  },
  {
   "cell_type": "code",
   "execution_count": 8,
   "metadata": {},
   "outputs": [],
   "source": [
    "client = mlflow.MlflowClient()"
   ]
  },
  {
   "cell_type": "code",
   "execution_count": 9,
   "metadata": {},
   "outputs": [],
   "source": [
    "# use the client to get the metric history\n",
    "metric_history = client.get_metric_history(run_id = run.info.run_id, key=\"accuracy\")"
   ]
  },
  {
   "cell_type": "code",
   "execution_count": 11,
   "metadata": {},
   "outputs": [
    {
     "data": {
      "text/plain": [
       "100"
      ]
     },
     "execution_count": 11,
     "metadata": {},
     "output_type": "execute_result"
    }
   ],
   "source": [
    "len(metric_history)"
   ]
  },
  {
   "cell_type": "code",
   "execution_count": 12,
   "metadata": {},
   "outputs": [
    {
     "data": {
      "text/plain": [
       "[<matplotlib.lines.Line2D at 0x284f6446410>]"
      ]
     },
     "execution_count": 12,
     "metadata": {},
     "output_type": "execute_result"
    },
    {
     "data": {
      "image/png": "[encoded data removed]",
      "text/plain": [
       "<Figure size 640x480 with 1 Axes>"
      ]
     },
     "metadata": {},
     "output_type": "display_data"
    }
   ],
   "source": [
    "metric_value = [m.value for m in metric_history]\n",
    "plt.plot(range(1,epochs+1), metric_value)"
   ]
  },
  {
   "cell_type": "code",
   "execution_count": null,
   "metadata": {},
   "outputs": [],
   "source": [
    "# use the client to get the metric history\n",
    "metric_history = client.get_metric_history(run_id = run.info.run_id, key = \"m1\")\n",
    "metric_history"
   ]
  },
  {
   "cell_type": "markdown",
   "metadata": {},
   "source": [
    "# Logging Parameters"
   ]
  },
  {
   "cell_type": "code",
   "execution_count": 13,
   "metadata": {},
   "outputs": [
    {
     "name": "stdout",
     "output_type": "stream",
     "text": [
      "Run ID: 441097d4b5d74c36b7807fcc480e1904\n"
     ]
    }
   ],
   "source": [
    "with mlflow.start_run(run_name=\"logging_params\", experiment_id=experiment.experiment_id) as run:\n",
    "    print(\"Run ID:\", run.info.run_id)\n",
    "\n",
    "    # logging a single parameter\n",
    "    mlflow.log_param(\"p1\", 2.0)\n",
    "\n",
    "    # logging multiple parameters\n",
    "    mlflow.log_params({\"p2\": 3.0, \"p3\": 4.0, \"p4\":\"This is a parameter.\"})"
   ]
  },
  {
   "cell_type": "markdown",
   "metadata": {},
   "source": [
    "# Logging Dict"
   ]
  },
  {
   "cell_type": "code",
   "execution_count": 14,
   "metadata": {},
   "outputs": [
    {
     "name": "stdout",
     "output_type": "stream",
     "text": [
      "Run ID: 104c63636ae74c8ab98abc237b80c536\n"
     ]
    }
   ],
   "source": [
    "with mlflow.start_run(run_name=\"logging_dict\", experiment_id=experiment.experiment_id) as run:\n",
    "    print(\"Run ID:\", run.info.run_id)\n",
    "\n",
    "    # logging a dictionary as json\n",
    "    mlflow.log_dict(dictionary={\"m1\": 2.0, \"m2\": 3.0, \"m3\": 4.0}, artifact_file=\"files/metrics.json\")\n",
    "\n",
    "    # logging a dictionary as yaml \n",
    "    config = {\n",
    "        \"dev\":{\n",
    "            \"epochs\": 100,\n",
    "            \"batch_size\": 32\n",
    "        },\n",
    "        \"test\":{\n",
    "            \"epochs\": 50,\n",
    "            \"batch_size\": 16\n",
    "        },\n",
    "        \"prod\":{\n",
    "            \"epochs\": 10,\n",
    "            \"batch_size\": 8\n",
    "        }\n",
    "    }\n",
    "    mlflow.log_dict(dictionary=config, artifact_file=\"files/config.yaml\")\n",
    "    mlflow.log_dict(dictionary=config, artifact_file=\"files/config.json\")\n"
   ]
  },
  {
   "cell_type": "markdown",
   "metadata": {},
   "source": [
    "# Logging Artifacts"
   ]
  },
  {
   "cell_type": "code",
   "execution_count": 18,
   "metadata": {},
   "outputs": [
    {
     "name": "stdout",
     "output_type": "stream",
     "text": [
      "Run ID: 3c75440b5d014dde95ceeb1dc0129e44\n"
     ]
    }
   ],
   "source": [
    "#Log a single artifact (file)\n",
    "with mlflow.start_run(run_name=\"logging_artifact\", experiment_id=experiment.experiment_id) as run:\n",
    "    print(\"Run ID:\", run.info.run_id)\n",
    "\n",
    "    # logging an artifact\n",
    "    mlflow.log_artifact(local_path=\"./images/mlflow_run.jpeg\",artifact_path=\"images\")"
   ]
  },
  {
   "cell_type": "code",
   "execution_count": 19,
   "metadata": {},
   "outputs": [
    {
     "name": "stdout",
     "output_type": "stream",
     "text": [
      "Run ID: aee17e1a1ea442ca99793390313de8cf\n"
     ]
    }
   ],
   "source": [
    "with mlflow.start_run(run_name=\"logging_artifacts\", experiment_id=experiment.experiment_id) as run:\n",
    "    print(\"Run ID:\", run.info.run_id)\n",
    "\n",
    "    # logging artifacts\n",
    "    mlflow.log_artifacts(local_dir=\"./images\",artifact_path=\"images\")"
   ]
  },
  {
   "cell_type": "markdown",
   "metadata": {},
   "source": [
    "# Logging Figure\n",
    "\n",
    "Log a figure as an artifact. The following figure objects are supported:\n",
    "\n",
    "* matplotlib.figure.Figure\n",
    "\n",
    "* plotly.graph_objects.Figure"
   ]
  },
  {
   "cell_type": "code",
   "execution_count": null,
   "metadata": {},
   "outputs": [],
   "source": [
    "import matplotlib.pyplot as plt\n",
    "\n",
    "fig, ax = plt.subplots()\n",
    "ax.plot([0, 1], [2, 3])\n",
    "\n",
    "with mlflow.start_run(run_name=\"logging_figure\", experiment_id=experiment.experiment_id) as run:\n",
    "    print(\"Run ID:\", run.info.run_id)\n",
    "\n",
    "    # logging a figure\n",
    "    mlflow.log_figure(fig, artifact_file=\"figures/figure.png\")"
   ]
  },
  {
   "cell_type": "markdown",
   "metadata": {},
   "source": [
    "# Logging Image\n",
    "\n",
    "Log an image as an artifact. The following image objects are supported:\n",
    "\n",
    "* numpy.ndarray\n",
    "\n",
    "* PIL.Image.Image"
   ]
  },
  {
   "cell_type": "code",
   "execution_count": null,
   "metadata": {},
   "outputs": [],
   "source": [
    "import numpy as np\n",
    "\n",
    "image = np.random.randint(0, 256, size=(100, 100, 3), dtype=np.uint8)\n",
    "\n",
    "with mlflow.start_run(run_name=\"logging_image\", experiment_id=experiment.experiment_id) as run:\n",
    "    print(\"Run ID:\", run.info.run_id)\n",
    "\n",
    "    # logging an image\n",
    "    mlflow.log_image(image, artifact_file=\"image.png\")"
   ]
  },
  {
   "cell_type": "markdown",
   "metadata": {},
   "source": [
    "# Logging Table\n",
    "\n",
    "Log a table to MLflow Tracking as a JSON artifact. If the artifact_file already exists in the run, the data would be appended to the existing artifact_file.\n",
    "\n",
    "* data – Dictionary or pandas.DataFrame to log.\n",
    "\n",
    "* artifact_file – The run-relative artifact file path in posixpath format to which the table is saved (e.g. “dir/file.json”)."
   ]
  },
  {
   "cell_type": "code",
   "execution_count": null,
   "metadata": {},
   "outputs": [],
   "source": [
    "import mlflow\n",
    "\n",
    "table_dict = {\n",
    "    \"inputs\": [\"What is MLflow?\", \"What is Databricks?\"],\n",
    "    \"outputs\": [\"MLflow is ...\", \"Databricks is ...\"],\n",
    "    \"toxicity\": [0.0, 0.0],\n",
    "}\n",
    "\n",
    "with mlflow.start_run(run_name=\"logging_table\", experiment_id=experiment.experiment_id) as run:\n",
    "    print(\"Run ID:\", run.info.run_id)\n",
    "\n",
    "    # Log the dictionary as a table\n",
    "    mlflow.log_table(data=table_dict, artifact_file=\"results.json\")"
   ]
  },
  {
   "cell_type": "code",
   "execution_count": null,
   "metadata": {},
   "outputs": [],
   "source": [
    "# Appending more info\n",
    "\n",
    "table_dict = {\n",
    "    \"inputs\": [\"This is a new input\"],\n",
    "    \"outputs\": [\"This is a new output\"],\n",
    "    \"toxicity\": [10.0],\n",
    "    \"new_column\": [\"This is a new column.\"],\n",
    "}\n",
    "\n",
    "with mlflow.start_run(run_id=run.info.run_id, experiment_id=experiment.experiment_id) as run:\n",
    "    print(\"Run ID:\", run.info.run_id)\n",
    "\n",
    "    # Log the dictionary as a table\n",
    "    mlflow.log_table(data=table_dict, artifact_file=\"results.json\")"
   ]
  },
  {
   "cell_type": "code",
   "execution_count": null,
   "metadata": {},
   "outputs": [],
   "source": [
    "import pandas as pd\n",
    "\n",
    "df = pd.DataFrame({\n",
    "    \"inputs\": [\"What is MLflow?\", \"What is Databricks?\"],\n",
    "    \"outputs\": [\"MLflow is ...\", \"Databricks is ...\"],\n",
    "    \"toxicity\": [0.0, 0.0],\n",
    "})\n",
    "\n",
    "with mlflow.start_run(run_name=\"logging_dataframe\", experiment_id=experiment.experiment_id) as run:\n",
    "    print(\"Run ID:\", run.info.run_id)\n",
    "\n",
    "    # Log the dictionary as a table\n",
    "    mlflow.log_table(data=df, artifact_file=\"results.json\")"
   ]
  },
  {
   "cell_type": "markdown",
   "metadata": {},
   "source": [
    "# Logging Text\n",
    "\n",
    "Log text as an artifact."
   ]
  },
  {
   "cell_type": "code",
   "execution_count": null,
   "metadata": {},
   "outputs": [],
   "source": [
    "with mlflow.start_run(run_name=\"logging_text\", experiment_id=experiment.experiment_id) as run:\n",
    "\n",
    "    print(\"Run ID:\", run.info.run_id)\n",
    "    # Log text to a file under the run's root artifact directory\n",
    "    mlflow.log_text(text = \"simple string\",artifact_file= \"file1.txt\")\n",
    "\n",
    "    # Log text in a subdirectory of the run's root artifact directory\n",
    "    mlflow.log_text(text = \"another simple string\", artifact_file= \"dir/file2.txt\")\n",
    "\n",
    "    # Log HTML text\n",
    "    mlflow.log_text(text = \"<h1>header</h1>\", artifact_file= \"index.html\")\n",
    "\n",
    "    mlflow.log_text(text = \"<h1>header</h1>\", artifact_file= \"index.txt\")"
   ]
  },
  {
   "cell_type": "code",
   "execution_count": null,
   "metadata": {},
   "outputs": [],
   "source": []
  }
 ],
 "metadata": {
  "kernelspec": {
   "display_name": ".venv",
   "language": "python",
   "name": "python3"
  },
  "language_info": {
   "codemirror_mode": {
    "name": "ipython",
    "version": 3
   },
   "file_extension": ".py",
   "mimetype": "text/x-python",
   "name": "python",
   "nbconvert_exporter": "python",
   "pygments_lexer": "ipython3",
   "version": "3.11.8"
  }
 },
 "nbformat": 4,
 "nbformat_minor": 2
}
