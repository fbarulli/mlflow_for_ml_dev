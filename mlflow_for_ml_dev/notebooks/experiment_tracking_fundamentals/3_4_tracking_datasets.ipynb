{
 "cells": [
  {
   "cell_type": "markdown",
   "metadata": {},
   "source": [
    "# Dataset Tracking"
   ]
  },
  {
   "cell_type": "markdown",
   "metadata": {},
   "source": [
    "The `mlflow.data` module is an integral part of the MLflow ecosystem, designed to enhance your machine learning workflow. This module enables you to record and retrieve dataset information during model training and evaluation, leveraging MLflow’s tracking capabilities."
   ]
  },
  {
   "cell_type": "markdown",
   "metadata": {},
   "source": [
    "## Dataset\n",
    "\n",
    "The Dataset abstraction is a metadata tracking object that holds the information about a given logged dataset.\n",
    "\n",
    "The information stored within a Dataset object includes features, targets, and predictions, along with metadata like the dataset’s name, digest (hash), schema, and profile. You can log this metadata using the mlflow.log_input() API. The module provides functions to construct mlflow.data.dataset.Dataset objects from various data types.\n",
    "\n",
    "There are a number of concrete implementations of this abstract class, including:\n",
    "\n",
    "* mlflow.data.spark_dataset.SparkDataset\n",
    "\n",
    "* mlflow.data.pandas_dataset.PandasDataset\n",
    "\n",
    "* mlflow.data.numpy_dataset.NumpyDataset\n",
    "\n",
    "* mlflow.data.huggingface_dataset.HuggingFaceDataset"
   ]
  },
  {
   "cell_type": "code",
   "execution_count": null,
   "metadata": {},
   "outputs": [],
   "source": [
    "import mlflow\n",
    "from mlflow_for_ml_dev.src.utils.folder_operations import get_project_root\n",
    "\n",
    "# set mlflow tracking uri\n",
    "mlflow.set_tracking_uri(uri=(get_project_root() / 'mlruns').as_uri())"
   ]
  },
  {
   "cell_type": "markdown",
   "metadata": {},
   "source": [
    "## Pandas Dataset"
   ]
  },
  {
   "cell_type": "code",
   "execution_count": 2,
   "metadata": {},
   "outputs": [
    {
     "name": "stderr",
     "output_type": "stream",
     "text": [
      "c:\\Users\\manue\\projects\\mlflow_for_ml_dev\\.venv\\Lib\\site-packages\\mlflow\\data\\dataset_source_registry.py:149: UserWarning: Failed to determine whether UCVolumeDatasetSource can resolve source information for 'https://raw.githubusercontent.com/mlflow/mlflow/master/tests/datasets/winequality-white.csv'. Exception: \n",
      "  return _dataset_source_registry.resolve(\n"
     ]
    }
   ],
   "source": [
    "import pandas as pd\n",
    "\n",
    "dataset_source_url = \"https://raw.githubusercontent.com/mlflow/mlflow/master/tests/datasets/winequality-white.csv\"\n",
    "raw_data = pd.read_csv(dataset_source_url, delimiter=\";\")\n",
    "\n",
    "# Create an instance of a PandasDataset\n",
    "dataset = mlflow.data.from_pandas(\n",
    "    raw_data, source=dataset_source_url, name=\"wine quality - white\", targets=\"quality\"\n",
    ")"
   ]
  },
  {
   "cell_type": "code",
   "execution_count": 3,
   "metadata": {},
   "outputs": [
    {
     "name": "stderr",
     "output_type": "stream",
     "text": [
      "c:\\Users\\manue\\projects\\mlflow_for_ml_dev\\.venv\\Lib\\site-packages\\mlflow\\types\\utils.py:451: UserWarning: Hint: Inferred schema contains integer column(s). Integer columns in Python cannot represent missing values. If your input data contains missing values at inference time, it will be encoded as floats and will cause a schema enforcement error. The best way to avoid this problem is to infer the model schema based on a realistic data sample (training dataset) that includes missing values. Alternatively, you can declare integer columns as doubles (float64) whenever these columns may have missing values. See `Handling Integers With Missing Values <https://www.mlflow.org/docs/latest/models.html#handling-integers-with-missing-values>`_ for more details.\n",
      "  warnings.warn(\n"
     ]
    },
    {
     "data": {
      "text/plain": [
       "{'name': 'wine quality - white',\n",
       " 'digest': '2a1e42c4',\n",
       " 'source': '{\"url\": \"https://raw.githubusercontent.com/mlflow/mlflow/master/tests/datasets/winequality-white.csv\"}',\n",
       " 'source_type': 'http',\n",
       " 'schema': '{\"mlflow_colspec\": [{\"type\": \"double\", \"name\": \"fixed acidity\", \"required\": true}, {\"type\": \"double\", \"name\": \"volatile acidity\", \"required\": true}, {\"type\": \"double\", \"name\": \"citric acid\", \"required\": true}, {\"type\": \"double\", \"name\": \"residual sugar\", \"required\": true}, {\"type\": \"double\", \"name\": \"chlorides\", \"required\": true}, {\"type\": \"double\", \"name\": \"free sulfur dioxide\", \"required\": true}, {\"type\": \"double\", \"name\": \"total sulfur dioxide\", \"required\": true}, {\"type\": \"double\", \"name\": \"density\", \"required\": true}, {\"type\": \"double\", \"name\": \"pH\", \"required\": true}, {\"type\": \"double\", \"name\": \"sulphates\", \"required\": true}, {\"type\": \"double\", \"name\": \"alcohol\", \"required\": true}, {\"type\": \"long\", \"name\": \"quality\", \"required\": true}]}',\n",
       " 'profile': '{\"num_rows\": 4898, \"num_elements\": 58776}'}"
      ]
     },
     "execution_count": 3,
     "metadata": {},
     "output_type": "execute_result"
    }
   ],
   "source": [
    "dataset.to_dict()"
   ]
  },
  {
   "cell_type": "code",
   "execution_count": 4,
   "metadata": {},
   "outputs": [],
   "source": [
    "with mlflow.start_run(run_name=\"pandas-dataset\") as run:\n",
    "    mlflow.log_input(dataset=dataset, context=\"raw_data\")"
   ]
  },
  {
   "cell_type": "code",
   "execution_count": 5,
   "metadata": {},
   "outputs": [],
   "source": [
    "run = mlflow.get_run(run.info.run_id)"
   ]
  },
  {
   "cell_type": "code",
   "execution_count": 6,
   "metadata": {},
   "outputs": [
    {
     "name": "stdout",
     "output_type": "stream",
     "text": [
      "Dataset name: wine quality - white\n",
      "Dataset digest: 2a1e42c4\n",
      "Dataset profile: {\"num_rows\": 4898, \"num_elements\": 58776}\n",
      "Dataset schema: {\"mlflow_colspec\": [{\"type\": \"double\", \"name\": \"fixed acidity\", \"required\": true}, {\"type\": \"double\", \"name\": \"volatile acidity\", \"required\": true}, {\"type\": \"double\", \"name\": \"citric acid\", \"required\": true}, {\"type\": \"double\", \"name\": \"residual sugar\", \"required\": true}, {\"type\": \"double\", \"name\": \"chlorides\", \"required\": true}, {\"type\": \"double\", \"name\": \"free sulfur dioxide\", \"required\": true}, {\"type\": \"double\", \"name\": \"total sulfur dioxide\", \"required\": true}, {\"type\": \"double\", \"name\": \"density\", \"required\": true}, {\"type\": \"double\", \"name\": \"pH\", \"required\": true}, {\"type\": \"double\", \"name\": \"sulphates\", \"required\": true}, {\"type\": \"double\", \"name\": \"alcohol\", \"required\": true}, {\"type\": \"long\", \"name\": \"quality\", \"required\": true}]}\n"
     ]
    }
   ],
   "source": [
    "dataset_info = run.inputs.dataset_inputs[0].dataset\n",
    "print(f\"Dataset name: {dataset_info.name}\")\n",
    "print(f\"Dataset digest: {dataset_info.digest}\")\n",
    "print(f\"Dataset profile: {dataset_info.profile}\")\n",
    "print(f\"Dataset schema: {dataset_info.schema}\")"
   ]
  },
  {
   "cell_type": "code",
   "execution_count": 7,
   "metadata": {},
   "outputs": [],
   "source": [
    "# Load the dataset's source, which downloads the content from the source URL to the local\n",
    "# filesystem\n",
    "dataset_source = mlflow.data.get_source(dataset_info)\n",
    "df_url = dataset_source.load()"
   ]
  },
  {
   "cell_type": "code",
   "execution_count": 8,
   "metadata": {},
   "outputs": [
    {
     "data": {
      "text/plain": [
       "'C:\\\\Users\\\\manue\\\\AppData\\\\Local\\\\Temp\\\\tmp1zp6phnt\\\\winequality-white.csv'"
      ]
     },
     "execution_count": 8,
     "metadata": {},
     "output_type": "execute_result"
    }
   ],
   "source": [
    "df_url"
   ]
  },
  {
   "cell_type": "code",
   "execution_count": 9,
   "metadata": {},
   "outputs": [],
   "source": [
    "retrieved_df = pd.read_csv(df_url, delimiter=\";\")"
   ]
  },
  {
   "cell_type": "code",
   "execution_count": 10,
   "metadata": {},
   "outputs": [
    {
     "data": {
      "text/html": [
       "<div>\n",
       "<style scoped>\n",
       "    .dataframe tbody tr th:only-of-type {\n",
       "        vertical-align: middle;\n",
       "    }\n",
       "\n",
       "    .dataframe tbody tr th {\n",
       "        vertical-align: top;\n",
       "    }\n",
       "\n",
       "    .dataframe thead th {\n",
       "        text-align: right;\n",
       "    }\n",
       "</style>\n",
       "<table border=\"1\" class=\"dataframe\">\n",
       "  <thead>\n",
       "    <tr style=\"text-align: right;\">\n",
       "      <th></th>\n",
       "      <th>fixed acidity</th>\n",
       "      <th>volatile acidity</th>\n",
       "      <th>citric acid</th>\n",
       "      <th>residual sugar</th>\n",
       "      <th>chlorides</th>\n",
       "      <th>free sulfur dioxide</th>\n",
       "      <th>total sulfur dioxide</th>\n",
       "      <th>density</th>\n",
       "      <th>pH</th>\n",
       "      <th>sulphates</th>\n",
       "      <th>alcohol</th>\n",
       "      <th>quality</th>\n",
       "    </tr>\n",
       "  </thead>\n",
       "  <tbody>\n",
       "    <tr>\n",
       "      <th>0</th>\n",
       "      <td>7.0</td>\n",
       "      <td>0.27</td>\n",
       "      <td>0.36</td>\n",
       "      <td>20.7</td>\n",
       "      <td>0.045</td>\n",
       "      <td>45.0</td>\n",
       "      <td>170.0</td>\n",
       "      <td>1.0010</td>\n",
       "      <td>3.00</td>\n",
       "      <td>0.45</td>\n",
       "      <td>8.8</td>\n",
       "      <td>6</td>\n",
       "    </tr>\n",
       "    <tr>\n",
       "      <th>1</th>\n",
       "      <td>6.3</td>\n",
       "      <td>0.30</td>\n",
       "      <td>0.34</td>\n",
       "      <td>1.6</td>\n",
       "      <td>0.049</td>\n",
       "      <td>14.0</td>\n",
       "      <td>132.0</td>\n",
       "      <td>0.9940</td>\n",
       "      <td>3.30</td>\n",
       "      <td>0.49</td>\n",
       "      <td>9.5</td>\n",
       "      <td>6</td>\n",
       "    </tr>\n",
       "    <tr>\n",
       "      <th>2</th>\n",
       "      <td>8.1</td>\n",
       "      <td>0.28</td>\n",
       "      <td>0.40</td>\n",
       "      <td>6.9</td>\n",
       "      <td>0.050</td>\n",
       "      <td>30.0</td>\n",
       "      <td>97.0</td>\n",
       "      <td>0.9951</td>\n",
       "      <td>3.26</td>\n",
       "      <td>0.44</td>\n",
       "      <td>10.1</td>\n",
       "      <td>6</td>\n",
       "    </tr>\n",
       "    <tr>\n",
       "      <th>3</th>\n",
       "      <td>7.2</td>\n",
       "      <td>0.23</td>\n",
       "      <td>0.32</td>\n",
       "      <td>8.5</td>\n",
       "      <td>0.058</td>\n",
       "      <td>47.0</td>\n",
       "      <td>186.0</td>\n",
       "      <td>0.9956</td>\n",
       "      <td>3.19</td>\n",
       "      <td>0.40</td>\n",
       "      <td>9.9</td>\n",
       "      <td>6</td>\n",
       "    </tr>\n",
       "    <tr>\n",
       "      <th>4</th>\n",
       "      <td>7.2</td>\n",
       "      <td>0.23</td>\n",
       "      <td>0.32</td>\n",
       "      <td>8.5</td>\n",
       "      <td>0.058</td>\n",
       "      <td>47.0</td>\n",
       "      <td>186.0</td>\n",
       "      <td>0.9956</td>\n",
       "      <td>3.19</td>\n",
       "      <td>0.40</td>\n",
       "      <td>9.9</td>\n",
       "      <td>6</td>\n",
       "    </tr>\n",
       "  </tbody>\n",
       "</table>\n",
       "</div>"
      ],
      "text/plain": [
       "   fixed acidity  volatile acidity  citric acid  residual sugar  chlorides  \\\n",
       "0            7.0              0.27         0.36            20.7      0.045   \n",
       "1            6.3              0.30         0.34             1.6      0.049   \n",
       "2            8.1              0.28         0.40             6.9      0.050   \n",
       "3            7.2              0.23         0.32             8.5      0.058   \n",
       "4            7.2              0.23         0.32             8.5      0.058   \n",
       "\n",
       "   free sulfur dioxide  total sulfur dioxide  density    pH  sulphates  \\\n",
       "0                 45.0                 170.0   1.0010  3.00       0.45   \n",
       "1                 14.0                 132.0   0.9940  3.30       0.49   \n",
       "2                 30.0                  97.0   0.9951  3.26       0.44   \n",
       "3                 47.0                 186.0   0.9956  3.19       0.40   \n",
       "4                 47.0                 186.0   0.9956  3.19       0.40   \n",
       "\n",
       "   alcohol  quality  \n",
       "0      8.8        6  \n",
       "1      9.5        6  \n",
       "2     10.1        6  \n",
       "3      9.9        6  \n",
       "4      9.9        6  "
      ]
     },
     "execution_count": 10,
     "metadata": {},
     "output_type": "execute_result"
    }
   ],
   "source": [
    "retrieved_df.head()"
   ]
  },
  {
   "cell_type": "markdown",
   "metadata": {},
   "source": [
    "## Numpy Dataset"
   ]
  },
  {
   "cell_type": "markdown",
   "metadata": {},
   "source": [
    "### Basic Example"
   ]
  },
  {
   "cell_type": "code",
   "execution_count": 11,
   "metadata": {},
   "outputs": [],
   "source": [
    "import numpy as np\n",
    "\n",
    "x = np.random.uniform(size=[2, 5, 4])\n",
    "y = np.random.randint(2, size=[2])\n",
    "np_dataset = mlflow.data.from_numpy(x, targets=y)"
   ]
  },
  {
   "cell_type": "code",
   "execution_count": 12,
   "metadata": {},
   "outputs": [
    {
     "data": {
      "text/plain": [
       "array([[[0.74909247, 0.25861044, 0.00820082, 0.37053635],\n",
       "        [0.50643759, 0.95636559, 0.72032466, 0.74361884],\n",
       "        [0.65365618, 0.2325535 , 0.19440739, 0.87896178],\n",
       "        [0.78294626, 0.88914739, 0.64461299, 0.81639379],\n",
       "        [0.34935933, 0.80011475, 0.27178135, 0.40919264]],\n",
       "\n",
       "       [[0.59434332, 0.62487433, 0.49780964, 0.89125117],\n",
       "        [0.38849287, 0.99917886, 0.85572353, 0.3784318 ],\n",
       "        [0.04683443, 0.86641894, 0.20997142, 0.89997806],\n",
       "        [0.02298351, 0.48882069, 0.16025171, 0.68334543],\n",
       "        [0.89960598, 0.30288663, 0.79732161, 0.80080448]]])"
      ]
     },
     "execution_count": 12,
     "metadata": {},
     "output_type": "execute_result"
    }
   ],
   "source": [
    "np_dataset.features"
   ]
  },
  {
   "cell_type": "markdown",
   "metadata": {},
   "source": [
    "### Basic Example Dictionary"
   ]
  },
  {
   "cell_type": "code",
   "execution_count": 13,
   "metadata": {},
   "outputs": [],
   "source": [
    "x = {\n",
    "    \"feature_1\": np.random.uniform(size=[2, 5, 4]),\n",
    "    \"feature_2\": np.random.uniform(size=[2, 5, 4]),\n",
    "}\n",
    "y = np.random.randint(2, size=[2])\n",
    "np_dataset = mlflow.data.from_numpy(x, targets=y)"
   ]
  },
  {
   "cell_type": "code",
   "execution_count": 14,
   "metadata": {},
   "outputs": [
    {
     "data": {
      "text/plain": [
       "{'feature_1': array([[[0.36290722, 0.38741   , 0.02211541, 0.46864922],\n",
       "         [0.9807029 , 0.40795016, 0.41779174, 0.41555896],\n",
       "         [0.84063979, 0.34150833, 0.58429674, 0.43479671],\n",
       "         [0.11596398, 0.25141929, 0.28390554, 0.28194285],\n",
       "         [0.84146728, 0.55096242, 0.37103449, 0.63768243]],\n",
       " \n",
       "        [[0.93745114, 0.92876871, 0.65934828, 0.48539714],\n",
       "         [0.70965727, 0.85347486, 0.57402007, 0.191737  ],\n",
       "         [0.33812805, 0.63079853, 0.63539026, 0.09653044],\n",
       "         [0.14938437, 0.24287166, 0.23203401, 0.29244357],\n",
       "         [0.71289638, 0.30510724, 0.4318705 , 0.93104434]]]),\n",
       " 'feature_2': array([[[0.42833608, 0.27700281, 0.38490294, 0.31226781],\n",
       "         [0.87006845, 0.40175085, 0.04193233, 0.26001864],\n",
       "         [0.44368361, 0.40548522, 0.82130109, 0.51583947],\n",
       "         [0.63997436, 0.1657265 , 0.4245044 , 0.89516391],\n",
       "         [0.61064067, 0.51279222, 0.92094368, 0.19553562]],\n",
       " \n",
       "        [[0.83106127, 0.05746171, 0.37423863, 0.45036939],\n",
       "         [0.78553223, 0.65597848, 0.31924221, 0.12637938],\n",
       "         [0.59242588, 0.8187759 , 0.16862329, 0.74108464],\n",
       "         [0.24273618, 0.75793863, 0.62593116, 0.02985589],\n",
       "         [0.10554518, 0.07596813, 0.24130855, 0.03239199]]])}"
      ]
     },
     "execution_count": 14,
     "metadata": {},
     "output_type": "execute_result"
    }
   ],
   "source": [
    "np_dataset.features"
   ]
  },
  {
   "cell_type": "code",
   "execution_count": 15,
   "metadata": {},
   "outputs": [],
   "source": [
    "# login dataset \n",
    "with mlflow.start_run(run_name=\"numpy-dataset\") as run:\n",
    "    mlflow.log_input(dataset=np_dataset, context=\"raw_data\")"
   ]
  },
  {
   "cell_type": "code",
   "execution_count": 16,
   "metadata": {},
   "outputs": [
    {
     "name": "stdout",
     "output_type": "stream",
     "text": [
      "Dataset name: dataset\n",
      "Dataset digest: d3a84b69\n",
      "Dataset profile: {\"features_shape\": {\"feature_1\": [2, 5, 4], \"feature_2\": [2, 5, 4]}, \"features_size\": {\"feature_1\": 40, \"feature_2\": 40}, \"features_nbytes\": {\"feature_1\": 320, \"feature_2\": 320}, \"targets_shape\": [2], \"targets_size\": 2, \"targets_nbytes\": 8}\n",
      "Dataset schema: {\"mlflow_tensorspec\": {\"features\": \"[{\\\"name\\\": \\\"feature_1\\\", \\\"type\\\": \\\"tensor\\\", \\\"tensor-spec\\\": {\\\"dtype\\\": \\\"float64\\\", \\\"shape\\\": [-1, 5, 4]}}, {\\\"name\\\": \\\"feature_2\\\", \\\"type\\\": \\\"tensor\\\", \\\"tensor-spec\\\": {\\\"dtype\\\": \\\"float64\\\", \\\"shape\\\": [-1, 5, 4]}}]\", \"targets\": \"[{\\\"type\\\": \\\"tensor\\\", \\\"tensor-spec\\\": {\\\"dtype\\\": \\\"int32\\\", \\\"shape\\\": [-1]}}]\"}}\n"
     ]
    }
   ],
   "source": [
    "# retrieve the np dataset\n",
    "run = mlflow.get_run(run.info.run_id)\n",
    "np_dataset_info = run.inputs.dataset_inputs[0].dataset\n",
    "print(f\"Dataset name: {np_dataset_info.name}\")\n",
    "print(f\"Dataset digest: {np_dataset_info.digest}\")\n",
    "print(f\"Dataset profile: {np_dataset_info.profile}\")\n",
    "print(f\"Dataset schema: {np_dataset_info.schema}\")\n"
   ]
  },
  {
   "cell_type": "code",
   "execution_count": null,
   "metadata": {},
   "outputs": [],
   "source": []
  }
 ],
 "metadata": {
  "kernelspec": {
   "display_name": ".venv",
   "language": "python",
   "name": "python3"
  },
  "language_info": {
   "codemirror_mode": {
    "name": "ipython",
    "version": 3
   },
   "file_extension": ".py",
   "mimetype": "text/x-python",
   "name": "python",
   "nbconvert_exporter": "python",
   "pygments_lexer": "ipython3",
   "version": "3.11.8"
  }
 },
 "nbformat": 4,
 "nbformat_minor": 2
}
