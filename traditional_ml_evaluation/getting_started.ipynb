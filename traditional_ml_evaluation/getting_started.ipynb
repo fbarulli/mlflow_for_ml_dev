{
 "cells": [
  {
   "cell_type": "code",
   "execution_count": 1,
   "metadata": {},
   "outputs": [],
   "source": [
    "import mlflow "
   ]
  },
  {
   "cell_type": "code",
   "execution_count": 2,
   "metadata": {},
   "outputs": [
    {
     "data": {
      "text/plain": [
       "<Experiment: artifact_location='file:///c:/Users/manue/projects/mlflow_for_ml_dev/traditional_ml_evaluation/mlruns/457969554144424460', creation_time=1723773638391, experiment_id='457969554144424460', last_update_time=1723773638391, lifecycle_stage='active', name='classic_evaluation', tags={}>"
      ]
     },
     "execution_count": 2,
     "metadata": {},
     "output_type": "execute_result"
    }
   ],
   "source": [
    "experiment_name = \"classic_evaluation\"\n",
    "mlflow.set_experiment(experiment_name)"
   ]
  },
  {
   "cell_type": "code",
   "execution_count": 3,
   "metadata": {},
   "outputs": [],
   "source": [
    "from sklearn.datasets import make_classification\n",
    "from sklearn.model_selection import train_test_split\n",
    "from sklearn.ensemble import RandomForestClassifier\n",
    "import pandas as pd"
   ]
  },
  {
   "cell_type": "code",
   "execution_count": 4,
   "metadata": {},
   "outputs": [],
   "source": [
    "x , y = make_classification(n_samples=1000, n_features=20, n_classes=2, random_state=42)\n",
    "\n",
    "x_df = pd.DataFrame(x, columns=[f'feature_{i+1}' for i in range(x.shape[1])])\n",
    "y_df = pd.DataFrame(y, columns=['target'])\n",
    "\n",
    "x_train, x_test, y_train, y_test = train_test_split(x_df, y_df, test_size=0.2, random_state=42)"
   ]
  },
  {
   "cell_type": "code",
   "execution_count": 5,
   "metadata": {},
   "outputs": [
    {
     "name": "stderr",
     "output_type": "stream",
     "text": [
      "c:\\Users\\manue\\projects\\mlflow_for_ml_dev\\.venv\\Lib\\site-packages\\sklearn\\base.py:1473: DataConversionWarning: A column-vector y was passed when a 1d array was expected. Please change the shape of y to (n_samples,), for example using ravel().\n",
      "  return fit_method(estimator, *args, **kwargs)\n"
     ]
    }
   ],
   "source": [
    "rfc = RandomForestClassifier(n_estimators=1)\n",
    "\n",
    "rfc.fit(x_train, y_train)\n",
    "\n",
    "predictions = rfc.predict(x_test)"
   ]
  },
  {
   "cell_type": "code",
   "execution_count": 15,
   "metadata": {},
   "outputs": [
    {
     "data": {
      "text/plain": [
       "array([0, 1, 0, 1, 1, 0, 0, 1, 0, 0, 1, 0, 0, 1, 0, 1, 0, 1, 1, 0, 0, 0,\n",
       "       0, 0, 1, 0, 1, 1, 0, 1, 0, 1, 1, 0, 0, 0, 0, 1, 0, 1, 0, 1, 0, 1,\n",
       "       0, 0, 1, 0, 1, 1, 0, 0, 0, 1, 1, 0, 0, 0, 1, 0, 1, 0, 0, 1, 1, 0,\n",
       "       1, 1, 1, 0, 0, 0, 0, 0, 1, 1, 0, 1, 1, 0, 0, 0, 0, 1, 1, 0, 0, 0,\n",
       "       0, 0, 1, 0, 0, 0, 0, 0, 1, 0, 0, 0, 1, 1, 1, 0, 1, 0, 0, 1, 0, 0,\n",
       "       0, 0, 0, 1, 0, 1, 1, 0, 1, 0, 1, 1, 1, 0, 1, 1, 0, 0, 1, 0, 0, 1,\n",
       "       1, 0, 0, 1, 1, 1, 0, 1, 1, 0, 1, 1, 0, 1, 1, 0, 0, 1, 1, 1, 0, 0,\n",
       "       1, 0, 1, 1, 0, 0, 1, 1, 0, 0, 0, 0, 1, 1, 1, 0, 0, 0, 0, 0, 0, 1,\n",
       "       1, 0, 1, 0, 0, 1, 0, 0, 0, 1, 0, 0, 0, 1, 1, 1, 0, 1, 1, 1, 1, 1,\n",
       "       0, 1])"
      ]
     },
     "execution_count": 15,
     "metadata": {},
     "output_type": "execute_result"
    }
   ],
   "source": [
    "predictions"
   ]
  },
  {
   "cell_type": "code",
   "execution_count": 16,
   "metadata": {},
   "outputs": [
    {
     "name": "stdout",
     "output_type": "stream",
     "text": [
      "   target  predicted\n",
      "0       1          0\n",
      "1       1          1\n",
      "2       1          0\n",
      "3       1          1\n",
      "4       1          1\n"
     ]
    }
   ],
   "source": [
    "eval_df = pd.DataFrame({\n",
    "    \"target\": y_test.to_numpy().flatten(),\n",
    "    \"predicted\": predictions\n",
    "})\n",
    "print(eval_df.head())"
   ]
  },
  {
   "cell_type": "code",
   "execution_count": 21,
   "metadata": {},
   "outputs": [
    {
     "name": "stderr",
     "output_type": "stream",
     "text": [
      "c:\\Users\\manue\\projects\\mlflow_for_ml_dev\\.venv\\Lib\\site-packages\\mlflow\\types\\utils.py:394: UserWarning: Hint: Inferred schema contains integer column(s). Integer columns in Python cannot represent missing values. If your input data contains missing values at inference time, it will be encoded as floats and will cause a schema enforcement error. The best way to avoid this problem is to infer the model schema based on a realistic data sample (training dataset) that includes missing values. Alternatively, you can declare integer columns as doubles (float64) whenever these columns may have missing values. See `Handling Integers With Missing Values <https://www.mlflow.org/docs/latest/models.html#handling-integers-with-missing-values>`_ for more details.\n",
      "  warnings.warn(\n",
      "2024/08/15 21:31:52 INFO mlflow.models.evaluation.default_evaluator: The evaluation dataset is inferred as binary dataset, positive label is 1, negative label is 0.\n",
      "2024/08/15 21:31:52 INFO mlflow.models.evaluation.default_evaluator: Testing metrics on first row...\n",
      "2024/08/15 21:31:52 INFO mlflow.models.evaluation.default_evaluator: Shap explainer ExactExplainer is used.\n",
      "2024/08/15 21:31:52 WARNING mlflow.models.evaluation.default_evaluator: Shap evaluation failed. Reason: IndexError('list index out of range'). Set logging level to DEBUG to see the full traceback.\n"
     ]
    }
   ],
   "source": [
    "result = mlflow.evaluate(\n",
    "    data = eval_df,\n",
    "    model_type  = \"classifier\",\n",
    "    targets=\"target\",\n",
    "    predictions=\"predicted\")"
   ]
  },
  {
   "cell_type": "code",
   "execution_count": 22,
   "metadata": {},
   "outputs": [
    {
     "data": {
      "text/plain": [
       "{'confusion_matrix': ImageEvaluationArtifact(uri='file:///c:/Users/manue/projects/mlflow_for_ml_dev/traditional_ml_evaluation/mlruns/457969554144424460/6f42e5756b8e4511a63559505ebaf4ea/artifacts/confusion_matrix.png')}"
      ]
     },
     "execution_count": 22,
     "metadata": {},
     "output_type": "execute_result"
    }
   ],
   "source": [
    "result.artifacts"
   ]
  },
  {
   "cell_type": "markdown",
   "metadata": {},
   "source": [
    "## Adding extra metrics"
   ]
  },
  {
   "cell_type": "code",
   "execution_count": 23,
   "metadata": {},
   "outputs": [],
   "source": [
    "from mlflow.metrics import make_metric"
   ]
  },
  {
   "cell_type": "code",
   "execution_count": 24,
   "metadata": {},
   "outputs": [],
   "source": [
    "def custom_accuracy(df, __builtin_metrics):\n",
    "    targets = df[\"target\"]\n",
    "    predictions = df[\"prediction\"]\n",
    "    return sum(targets == predictions) / len(targets)\n",
    "\n",
    "def custom_f1_score(df, __builtin_metrics):\n",
    "    from sklearn.metrics import f1_score\n",
    "    targets = df[\"target\"]\n",
    "    predictions = df[\"prediction\"]\n",
    "    return f1_score(targets, predictions, average=\"weighted\")"
   ]
  },
  {
   "cell_type": "code",
   "execution_count": 25,
   "metadata": {},
   "outputs": [],
   "source": [
    "custom_metric_accuracy = make_metric(\n",
    "    eval_fn = custom_accuracy,\n",
    "    name = \"custom_accuracy\",\n",
    "    greater_is_better=True,\n",
    ")\n",
    "\n",
    "custom_metric_f1_score = make_metric(\n",
    "    eval_fn = custom_f1_score,\n",
    "    name = \"custom_f1_score\",\n",
    "    greater_is_better=True,\n",
    ")"
   ]
  },
  {
   "cell_type": "code",
   "execution_count": 26,
   "metadata": {},
   "outputs": [
    {
     "name": "stderr",
     "output_type": "stream",
     "text": [
      "c:\\Users\\manue\\projects\\mlflow_for_ml_dev\\.venv\\Lib\\site-packages\\mlflow\\types\\utils.py:394: UserWarning: Hint: Inferred schema contains integer column(s). Integer columns in Python cannot represent missing values. If your input data contains missing values at inference time, it will be encoded as floats and will cause a schema enforcement error. The best way to avoid this problem is to infer the model schema based on a realistic data sample (training dataset) that includes missing values. Alternatively, you can declare integer columns as doubles (float64) whenever these columns may have missing values. See `Handling Integers With Missing Values <https://www.mlflow.org/docs/latest/models.html#handling-integers-with-missing-values>`_ for more details.\n",
      "  warnings.warn(\n",
      "2024/08/15 21:31:59 INFO mlflow.models.evaluation.default_evaluator: The evaluation dataset is inferred as binary dataset, positive label is 1, negative label is 0.\n",
      "2024/08/15 21:31:59 INFO mlflow.models.evaluation.default_evaluator: Testing metrics on first row...\n",
      "2024/08/15 21:32:00 INFO mlflow.models.evaluation.default_evaluator: Shap explainer ExactExplainer is used.\n",
      "2024/08/15 21:32:00 WARNING mlflow.models.evaluation.default_evaluator: Shap evaluation failed. Reason: IndexError('list index out of range'). Set logging level to DEBUG to see the full traceback.\n"
     ]
    }
   ],
   "source": [
    "result = mlflow.evaluate(\n",
    "    data = eval_df,\n",
    "    model_type  = \"classifier\",\n",
    "    targets=\"target\",\n",
    "    predictions=\"predicted\",\n",
    "    extra_metrics=[custom_metric_accuracy, custom_metric_f1_score]\n",
    ")\n"
   ]
  },
  {
   "cell_type": "code",
   "execution_count": 27,
   "metadata": {},
   "outputs": [
    {
     "data": {
      "text/plain": [
       "{'true_negatives': 83,\n",
       " 'false_positives': 10,\n",
       " 'false_negatives': 27,\n",
       " 'true_positives': 80,\n",
       " 'example_count': 200,\n",
       " 'accuracy_score': 0.815,\n",
       " 'recall_score': 0.7476635514018691,\n",
       " 'precision_score': 0.8888888888888888,\n",
       " 'f1_score': 0.8121827411167513,\n",
       " 'custom_accuracy': 0.815,\n",
       " 'custom_f1_score': 0.814764071916181}"
      ]
     },
     "execution_count": 27,
     "metadata": {},
     "output_type": "execute_result"
    }
   ],
   "source": [
    "result.metrics"
   ]
  },
  {
   "cell_type": "code",
   "execution_count": null,
   "metadata": {},
   "outputs": [],
   "source": [
    "with mlflow.start_run(run_name=\"custom-metrics\") as run:\n",
    "    print(\"Logging custom metrics\")\n",
    "    mlflow.log_metrics(result.metrics)"
   ]
  },
  {
   "cell_type": "markdown",
   "metadata": {},
   "source": [
    "## Adding Custom Artifacts"
   ]
  },
  {
   "cell_type": "code",
   "execution_count": 105,
   "metadata": {},
   "outputs": [],
   "source": [
    "# Custom precision recal curve\n",
    "from sklearn.metrics import PrecisionRecallDisplay\n",
    "import matplotlib.pyplot as plt\n",
    "def custom_precision_recall_curve(df, _builtin_metrics, _artifacts_dir):\n",
    "    targets = df[\"target\"]\n",
    "    predictions = df[\"prediction\"]\n",
    "    # Precision-recall curve\n",
    "    pr_display = PrecisionRecallDisplay.from_predictions(targets, predictions)\n",
    "    return {\"precision_recall_curve\": pr_display.figure_}\n"
   ]
  },
  {
   "cell_type": "code",
   "execution_count": 106,
   "metadata": {},
   "outputs": [
    {
     "name": "stderr",
     "output_type": "stream",
     "text": [
      "c:\\Users\\manue\\projects\\mlflow_for_ml_dev\\.venv\\Lib\\site-packages\\mlflow\\types\\utils.py:394: UserWarning: Hint: Inferred schema contains integer column(s). Integer columns in Python cannot represent missing values. If your input data contains missing values at inference time, it will be encoded as floats and will cause a schema enforcement error. The best way to avoid this problem is to infer the model schema based on a realistic data sample (training dataset) that includes missing values. Alternatively, you can declare integer columns as doubles (float64) whenever these columns may have missing values. See `Handling Integers With Missing Values <https://www.mlflow.org/docs/latest/models.html#handling-integers-with-missing-values>`_ for more details.\n",
      "  warnings.warn(\n",
      "2024/08/15 22:00:03 INFO mlflow.models.evaluation.default_evaluator: The evaluation dataset is inferred as binary dataset, positive label is 1, negative label is 0.\n",
      "2024/08/15 22:00:03 INFO mlflow.models.evaluation.default_evaluator: Testing metrics on first row...\n",
      "2024/08/15 22:00:04 INFO mlflow.models.evaluation.default_evaluator: Shap explainer ExactExplainer is used.\n",
      "2024/08/15 22:00:04 WARNING mlflow.models.evaluation.default_evaluator: Shap evaluation failed. Reason: IndexError('list index out of range'). Set logging level to DEBUG to see the full traceback.\n",
      "2024/08/15 22:00:04 INFO mlflow.models.evaluation.base: Validating generated model metrics\n",
      "2024/08/15 22:00:04 INFO mlflow.models.evaluation.base: Model validation passed!\n"
     ]
    }
   ],
   "source": [
    "result = mlflow.evaluate(\n",
    "        data = eval_df,\n",
    "        model_type  = \"classifier\",\n",
    "        targets=\"target\",\n",
    "        predictions=\"predicted\",\n",
    "        extra_metrics=[custom_metric_accuracy, custom_metric_f1_score],\n",
    "        custom_artifacts=[custom_precision_recall_curve]\n",
    ")"
   ]
  },
  {
   "cell_type": "code",
   "execution_count": null,
   "metadata": {},
   "outputs": [],
   "source": []
  },
  {
   "cell_type": "code",
   "execution_count": null,
   "metadata": {},
   "outputs": [],
   "source": []
  }
 ],
 "metadata": {
  "kernelspec": {
   "display_name": ".venv",
   "language": "python",
   "name": "python3"
  },
  "language_info": {
   "codemirror_mode": {
    "name": "ipython",
    "version": 3
   },
   "file_extension": ".py",
   "mimetype": "text/x-python",
   "name": "python",
   "nbconvert_exporter": "python",
   "pygments_lexer": "ipython3",
   "version": "3.11.8"
  }
 },
 "nbformat": 4,
 "nbformat_minor": 2
}
